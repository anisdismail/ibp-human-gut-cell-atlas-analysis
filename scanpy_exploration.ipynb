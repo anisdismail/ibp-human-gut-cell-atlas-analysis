{
 "cells": [
  {
   "cell_type": "markdown",
   "metadata": {},
   "source": [
    "# Example Seurat to Scanpy Conversion"
   ]
  },
  {
   "cell_type": "markdown",
   "metadata": {},
   "source": [
    "This notebook shows a simple example of how a Seurat object can easily be converted to AnnData using Seurat's `convert()` functionality and [`anndata2ri`](https://github.com/flying-sheep/anndata2ri), a cool package developed by Phil Angerer."
   ]
  },
  {
   "cell_type": "code",
   "execution_count": 1,
   "metadata": {},
   "outputs": [],
   "source": [
    "import scanpy as sc\n",
    "import numpy as np\n"
   ]
  },
  {
   "cell_type": "code",
   "execution_count": 2,
   "metadata": {},
   "outputs": [
    {
     "name": "stderr",
     "output_type": "stream",
     "text": [
      "/tmp/ipykernel_1785692/1522958795.py:2: DeprecationWarning: The global conversion available with activate() is deprecated and will be removed in the next major release. Use a local converter.\n",
      "  anndata2ri.activate()\n"
     ]
    },
    {
     "name": "stdout",
     "output_type": "stream",
     "text": [
      "-----\n",
      "anndata     0.8.0\n",
      "scanpy      1.9.1\n",
      "-----\n",
      "PIL                         10.0.1\n",
      "anndata2ri                  1.3.1\n",
      "asttokens                   NA\n",
      "backcall                    0.2.0\n",
      "beta_ufunc                  NA\n",
      "binom_ufunc                 NA\n",
      "cffi                        1.15.1\n",
      "cloudpickle                 2.1.0\n",
      "colorama                    0.4.5\n",
      "cycler                      0.10.0\n",
      "cython_runtime              NA\n",
      "cytoolz                     0.12.0\n",
      "dask                        2022.7.1\n",
      "dateutil                    2.8.2\n",
      "debugpy                     1.6.0\n",
      "decorator                   5.1.1\n",
      "defusedxml                  0.7.1\n",
      "entrypoints                 0.4\n",
      "executing                   0.8.3\n",
      "fsspec                      2022.5.0\n",
      "google                      NA\n",
      "h5py                        3.7.0\n",
      "hypergeom_ufunc             NA\n",
      "igraph                      0.9.11\n",
      "ipykernel                   6.15.0\n",
      "ipython_genutils            0.2.0\n",
      "ipywidgets                  7.7.1\n",
      "jedi                        0.18.1\n",
      "jinja2                      3.1.2\n",
      "joblib                      1.1.0\n",
      "kiwisolver                  1.4.3\n",
      "leidenalg                   0.8.10\n",
      "llvmlite                    0.38.1\n",
      "markupsafe                  2.1.3\n",
      "matplotlib                  3.5.2\n",
      "mpl_toolkits                NA\n",
      "natsort                     8.1.0\n",
      "nbinom_ufunc                NA\n",
      "numba                       0.55.2\n",
      "numexpr                     2.8.3\n",
      "numpy                       1.22.4\n",
      "packaging                   21.3\n",
      "pandas                      1.4.3\n",
      "parso                       0.8.3\n",
      "pexpect                     4.8.0\n",
      "pickleshare                 0.7.5\n",
      "pkg_resources               NA\n",
      "prompt_toolkit              3.0.29\n",
      "psutil                      5.9.1\n",
      "ptyprocess                  0.7.0\n",
      "pure_eval                   0.2.2\n",
      "pyarrow                     8.0.0\n",
      "pydev_ipython               NA\n",
      "pydevconsole                NA\n",
      "pydevd                      2.8.0\n",
      "pydevd_file_utils           NA\n",
      "pydevd_plugins              NA\n",
      "pydevd_tracing              NA\n",
      "pygments                    2.12.0\n",
      "pyparsing                   3.0.9\n",
      "pytz                        2022.1\n",
      "pytz_deprecation_shim       NA\n",
      "rpy2                        3.5.14\n",
      "scipy                       1.8.1\n",
      "session_info                1.0.0\n",
      "six                         1.16.0\n",
      "sklearn                     1.1.2\n",
      "sphinxcontrib               NA\n",
      "stack_data                  0.3.0\n",
      "tblib                       1.7.0\n",
      "texttable                   1.6.4\n",
      "threadpoolctl               3.1.0\n",
      "tlz                         0.12.0\n",
      "toolz                       0.11.2\n",
      "tornado                     6.1\n",
      "traitlets                   5.3.0\n",
      "typing_extensions           NA\n",
      "tzlocal                     NA\n",
      "wcwidth                     0.2.5\n",
      "yaml                        6.0\n",
      "zmq                         23.2.0\n",
      "zoneinfo                    NA\n",
      "-----\n",
      "IPython             8.4.0\n",
      "jupyter_client      7.3.4\n",
      "jupyter_core        4.10.0\n",
      "notebook            6.4.12\n",
      "-----\n",
      "Python 3.9.18 (main, Sep 11 2023, 13:41:44) [GCC 11.2.0]\n",
      "Linux-5.15.0-76-generic-x86_64-with-glibc2.31\n",
      "-----\n",
      "Session information updated at 2023-10-29 22:32\n"
     ]
    }
   ],
   "source": [
    "sc.settings.verbosity = 3\n",
    "sc.logging.print_versions()"
   ]
  },
  {
   "cell_type": "markdown",
   "metadata": {},
   "source": [
    "## Scanpy"
   ]
  },
  {
   "cell_type": "code",
   "execution_count": 7,
   "metadata": {},
   "outputs": [
    {
     "data": {
      "image/png": "[encoded data removed]",
      "text/plain": [
       "<Figure size 648x216 with 3 Axes>"
      ]
     },
     "metadata": {
      "needs_background": "light"
     },
     "output_type": "display_data"
    }
   ],
   "source": [
    "mito_genes = pbmc_sce.var_names.str.startswith('MT-')\n",
    "pbmc_sce.obs['percent_mito'] = np.sum(pbmc_sce[:, mito_genes].X, axis=1).A1 / np.sum(pbmc_sce.X, axis=1).A1\n",
    "\n",
    "sc.pl.violin(pbmc_sce, ['nFeature_RNA', 'nCount_RNA', 'percent_mito'], jitter=0.4, multi_panel=True)"
   ]
  },
  {
   "cell_type": "code",
   "execution_count": null,
   "metadata": {},
   "outputs": [],
   "source": [
    "### Doublets\n",
    "%matplotlib inline\n",
    "import scrublet as scr\n",
    "\n",
    "scrub = scr.Scrublet(adata.X, expected_doublet_rate=0.06)\n",
    "doublet_scores, predicted_doublets = scrub.scrub_doublets(min_counts=2, \n",
    "                                                          min_cells=3, \n",
    "                                                          min_gene_variability_pctl=85, \n",
    "                                                          n_prin_comps=30)"
   ]
  },
  {
   "cell_type": "code",
   "execution_count": null,
   "metadata": {},
   "outputs": [],
   "source": [
    "scrub.plot_histogram()"
   ]
  },
  {
   "cell_type": "code",
   "execution_count": null,
   "metadata": {},
   "outputs": [],
   "source": [
    "scrub.set_embedding('UMAP', scr.get_umap(scrub.manifold_obs_, 10, min_dist=0.3))"
   ]
  },
  {
   "cell_type": "code",
   "execution_count": null,
   "metadata": {},
   "outputs": [],
   "source": [
    "scrub.plot_embedding('UMAP', order_points=True)"
   ]
  },
  {
   "cell_type": "code",
   "execution_count": null,
   "metadata": {},
   "outputs": [],
   "source": [
    "adata.obs['predicted_doublets'] = predicted_doublets\n",
    "adata.obs['doublet_scores'] = doublet_scores"
   ]
  },
  {
   "cell_type": "code",
   "execution_count": null,
   "metadata": {},
   "outputs": [],
   "source": [
    "adata.obs"
   ]
  },
  {
   "cell_type": "markdown",
   "metadata": {},
   "source": [
    "### Count based QC"
   ]
  },
  {
   "cell_type": "markdown",
   "metadata": {},
   "source": [
    "To remove barcodes that correspond to broken or no cells, we can filter cells by a minimum number of genes. For scRNAseq a minum of `200` genes is a reasonable threshold. Similarly, genes that are not or barely expressed in any  cells are not useful for the analysis."
   ]
  },
  {
   "cell_type": "code",
   "execution_count": null,
   "metadata": {},
   "outputs": [],
   "source": [
    "sc.pp.filter_cells(adata, min_genes=200)\n",
    "sc.pp.filter_genes(adata, min_cells=3)"
   ]
  },
  {
   "cell_type": "code",
   "execution_count": null,
   "metadata": {},
   "outputs": [],
   "source": [
    "adata.obs"
   ]
  },
  {
   "cell_type": "code",
   "execution_count": null,
   "metadata": {},
   "outputs": [],
   "source": [
    "adata.var"
   ]
  },
  {
   "cell_type": "markdown",
   "metadata": {},
   "source": [
    "Broken or dying cells can also be detected by a high amount of mitochondrial genes. Mitochondrial mouse genes names start with `mt-` and human with `MT-`. We can specify a flag in `.var` entries for mitochondrial genes:"
   ]
  },
  {
   "cell_type": "code",
   "execution_count": null,
   "metadata": {},
   "outputs": [],
   "source": [
    "adata.var['mt'] = adata.var_names.str.startswith('mt-') \n",
    "adata.var"
   ]
  },
  {
   "cell_type": "code",
   "execution_count": null,
   "metadata": {},
   "outputs": [],
   "source": [
    "adata.var[ adata.var['mt']]"
   ]
  },
  {
   "cell_type": "markdown",
   "metadata": {},
   "source": [
    "This flag for mitochondrial genes can then be used to compute the percentage of mitochdondrial genes per cell when given as parameter to `calculate_qc_metrics`. `calculate_qc_metrics` will also compute the number of genes and total counts per cell."
   ]
  },
  {
   "cell_type": "code",
   "execution_count": null,
   "metadata": {},
   "outputs": [],
   "source": [
    "sc.pp.calculate_qc_metrics(adata, qc_vars=['mt'], percent_top=None, log1p=False, inplace=True)"
   ]
  },
  {
   "cell_type": "markdown",
   "metadata": {},
   "source": [
    "`calculate_qc_metrics` computes both metrics for each gene and for each cell"
   ]
  },
  {
   "cell_type": "code",
   "execution_count": null,
   "metadata": {},
   "outputs": [],
   "source": [
    "adata.var"
   ]
  },
  {
   "cell_type": "code",
   "execution_count": null,
   "metadata": {},
   "outputs": [],
   "source": [
    "adata.obs"
   ]
  },
  {
   "cell_type": "markdown",
   "metadata": {},
   "source": [
    "Violin-plots are useful for inspecting the distribution of gene counts and total counts per cell and specifying thresholds. "
   ]
  },
  {
   "cell_type": "code",
   "execution_count": null,
   "metadata": {},
   "outputs": [],
   "source": [
    "sc.pl.violin(adata, ['n_genes_by_counts', 'total_counts', 'pct_counts_mt'],\n",
    "             jitter=0.4, multi_panel=True)"
   ]
  },
  {
   "cell_type": "markdown",
   "metadata": {},
   "source": [
    "To see how totals and gene counts or the percentage of mitochondrial genes relate to each other, we can look at scatter plots."
   ]
  },
  {
   "cell_type": "code",
   "execution_count": null,
   "metadata": {},
   "outputs": [],
   "source": [
    "sc.pl.scatter(adata, x='total_counts', y='pct_counts_mt')\n",
    "sc.pl.scatter(adata, x='total_counts', y='n_genes_by_counts')"
   ]
  },
  {
   "cell_type": "markdown",
   "metadata": {},
   "source": [
    "Overall, mitochondrial counts are very low. Here use can use a low default of `5` percent. In addition, to the scrublet based doublet filtering, we can also remove barcodes with very high counts."
   ]
  },
  {
   "cell_type": "code",
   "execution_count": null,
   "metadata": {},
   "outputs": [],
   "source": [
    "adata"
   ]
  },
  {
   "cell_type": "markdown",
   "metadata": {},
   "source": [
    "For filtering, you can subset the anndata object like this:"
   ]
  },
  {
   "cell_type": "code",
   "execution_count": null,
   "metadata": {},
   "outputs": [],
   "source": [
    "adata = adata[adata.obs.n_genes_by_counts < 8000, :].copy()\n",
    "adata = adata[adata.obs.pct_counts_mt < 5, :].copy()"
   ]
  },
  {
   "cell_type": "code",
   "execution_count": null,
   "metadata": {},
   "outputs": [],
   "source": [
    "adata"
   ]
  },
  {
   "cell_type": "markdown",
   "metadata": {},
   "source": [
    "## Normalization"
   ]
  },
  {
   "cell_type": "markdown",
   "metadata": {},
   "source": [
    "Before computing embeddings and clusterings of cells, we normalize each cell to a total of 10,000 counts."
   ]
  },
  {
   "cell_type": "code",
   "execution_count": null,
   "metadata": {},
   "outputs": [],
   "source": [
    "adata.X.todense()"
   ]
  },
  {
   "cell_type": "code",
   "execution_count": null,
   "metadata": {},
   "outputs": [],
   "source": [
    "sc.pp.normalize_total(adata, target_sum=1e4)"
   ]
  },
  {
   "cell_type": "code",
   "execution_count": null,
   "metadata": {},
   "outputs": [],
   "source": [
    "adata.X.todense()"
   ]
  },
  {
   "cell_type": "markdown",
   "metadata": {},
   "source": [
    "Often data is more comparable in log-scale"
   ]
  },
  {
   "cell_type": "code",
   "execution_count": null,
   "metadata": {},
   "outputs": [],
   "source": [
    "sc.pp.log1p(adata)"
   ]
  },
  {
   "cell_type": "code",
   "execution_count": null,
   "metadata": {},
   "outputs": [],
   "source": [
    "adata.X.todense()"
   ]
  },
  {
   "cell_type": "markdown",
   "metadata": {},
   "source": [
    "As we will apply further scaling downstream, we will store the log-normalized counts in `adata.raw`. We can restore them with `adata.raw.to_adata()`."
   ]
  },
  {
   "cell_type": "code",
   "execution_count": null,
   "metadata": {},
   "outputs": [],
   "source": [
    "adata.raw = adata"
   ]
  },
  {
   "cell_type": "markdown",
   "metadata": {},
   "source": [
    "## Variable genes"
   ]
  },
  {
   "cell_type": "markdown",
   "metadata": {},
   "source": [
    "In order to compute embeddings and clusterings of our data, we first perform principal component analysis (PCA) for dimensionality reduction. A PCA is often more informative when the data set is limited to variable genes. `highly_variable_genes` offers different `flavors` for identifying highly variable genes; here we are using the default `seurat` style. see https://scanpy.readthedocs.io/en/stable/generated/scanpy.pp.highly_variable_genes.html for more details. "
   ]
  },
  {
   "cell_type": "code",
   "execution_count": null,
   "metadata": {},
   "outputs": [],
   "source": [
    "sc.pp.highly_variable_genes(adata, flavor=\"seurat\", n_top_genes=2000, inplace=True)"
   ]
  },
  {
   "cell_type": "code",
   "execution_count": null,
   "metadata": {},
   "outputs": [],
   "source": [
    "sc.pl.highly_variable_genes(adata)"
   ]
  },
  {
   "cell_type": "markdown",
   "metadata": {},
   "source": [
    "In addition, to log-normalizing data it should be scaled before computing a PCA"
   ]
  },
  {
   "cell_type": "code",
   "execution_count": null,
   "metadata": {},
   "outputs": [],
   "source": [
    "sc.pp.scale(adata, max_value=10)"
   ]
  },
  {
   "cell_type": "markdown",
   "metadata": {},
   "source": [
    "For computing the PCA, we specify that we are limiting it to highly variable genes and give the number of PCs to be computed "
   ]
  },
  {
   "cell_type": "code",
   "execution_count": null,
   "metadata": {},
   "outputs": [],
   "source": [
    "sc.pp.pca(adata, n_comps=50, use_highly_variable=True)"
   ]
  },
  {
   "cell_type": "markdown",
   "metadata": {},
   "source": [
    "The loadings of the PCs suggest genes which explain high variance among the single cell data"
   ]
  },
  {
   "cell_type": "code",
   "execution_count": null,
   "metadata": {},
   "outputs": [],
   "source": [
    "sc.pl.pca_loadings(adata, include_lowest=False)"
   ]
  },
  {
   "cell_type": "code",
   "execution_count": null,
   "metadata": {},
   "outputs": [],
   "source": [
    "sc.pl.pca_loadings(adata, components='4,5,6', include_lowest=False)"
   ]
  },
  {
   "cell_type": "code",
   "execution_count": null,
   "metadata": {},
   "outputs": [],
   "source": [
    "sc.pl.pca(adata, color=['C1qb', 'Mobp'])"
   ]
  },
  {
   "cell_type": "markdown",
   "metadata": {},
   "source": [
    "For downstream steps such as computing embeddings and clusterings, we should limit the number of PCs. Using an elbow plot we can determine the PCs that show a high contribution to variance in our data. The first 37 PCs look like a reasonable choice."
   ]
  },
  {
   "cell_type": "code",
   "execution_count": null,
   "metadata": {},
   "outputs": [],
   "source": [
    "sc.pl.pca_variance_ratio(adata, log=True, n_pcs=50)"
   ]
  },
  {
   "cell_type": "markdown",
   "metadata": {},
   "source": [
    "## Embeddings"
   ]
  },
  {
   "cell_type": "markdown",
   "metadata": {},
   "source": [
    "To visualize single cell data in two dimensions, UMAP and tSNE are very useful embeddings. A UMAP uses a neighborhood graph that is computed based on PCs. This neighborhood graph will also be used for Leiden clustering."
   ]
  },
  {
   "cell_type": "code",
   "execution_count": null,
   "metadata": {},
   "outputs": [],
   "source": [
    "sc.pp.neighbors(adata, n_pcs=37)"
   ]
  },
  {
   "cell_type": "code",
   "execution_count": null,
   "metadata": {},
   "outputs": [],
   "source": [
    "sc.tl.umap(adata)"
   ]
  },
  {
   "cell_type": "markdown",
   "metadata": {},
   "source": [
    "On the UMAP we can that the genes with the highest loadings for the first 3 PCs are associated with distinct clusters."
   ]
  },
  {
   "cell_type": "code",
   "execution_count": null,
   "metadata": {},
   "outputs": [],
   "source": [
    "sc.pl.umap(adata, color=['C1qb', 'Mobp', 'Atp1a2'])"
   ]
  },
  {
   "cell_type": "markdown",
   "metadata": {},
   "source": [
    "Alternatively, we can compute a tSNE to visualize single cell data in 2D. Although UMAPs are generally better for capturing relationships between data points. tSNEs can provide a good view on distinct clusters."
   ]
  },
  {
   "cell_type": "code",
   "execution_count": null,
   "metadata": {},
   "outputs": [],
   "source": [
    "sc.tl.tsne(adata, n_pcs=37)"
   ]
  },
  {
   "cell_type": "code",
   "execution_count": null,
   "metadata": {},
   "outputs": [],
   "source": [
    "sc.pl.tsne(adata, color=['C1qb', 'Mobp', 'Atp1a2'], use_raw=False)"
   ]
  },
  {
   "cell_type": "markdown",
   "metadata": {},
   "source": [
    "UMAPs (or tSNEs) can also be useful to inspect biases in the data such as low and high counts, or where doublets are located. "
   ]
  },
  {
   "cell_type": "code",
   "execution_count": null,
   "metadata": {},
   "outputs": [],
   "source": [
    "sc.pl.umap(adata, color=['total_counts', 'n_genes_by_counts', 'doublet_scores'], use_raw=False)"
   ]
  },
  {
   "cell_type": "markdown",
   "metadata": {},
   "source": [
    "The coordinates of embeddings are stored in `.obsm` entries"
   ]
  },
  {
   "cell_type": "code",
   "execution_count": null,
   "metadata": {},
   "outputs": [],
   "source": [
    "adata.obsm"
   ]
  },
  {
   "cell_type": "code",
   "execution_count": null,
   "metadata": {},
   "outputs": [],
   "source": [
    "adata.obsm['X_umap']"
   ]
  },
  {
   "cell_type": "code",
   "execution_count": null,
   "metadata": {},
   "outputs": [],
   "source": [
    "adata.obsm['X_umap'].shape"
   ]
  },
  {
   "cell_type": "markdown",
   "metadata": {},
   "source": [
    "### Clustering"
   ]
  },
  {
   "cell_type": "markdown",
   "metadata": {},
   "source": [
    "Using the neighborhood graph that we computed above with `sc.pp.neighbors`, we can perform Leiden clustering to group single cells. This will be useful for identifying cell types. For Leiden clustering, a clustering resolution can be specified where higher values will result in more clusters."
   ]
  },
  {
   "cell_type": "code",
   "execution_count": null,
   "metadata": {},
   "outputs": [],
   "source": [
    "sc.tl.leiden(adata, resolution=0.3)"
   ]
  },
  {
   "cell_type": "markdown",
   "metadata": {},
   "source": [
    "Per default Leiden clustering is saved as `leiden` entry in `.obs`."
   ]
  },
  {
   "cell_type": "code",
   "execution_count": null,
   "metadata": {},
   "outputs": [],
   "source": [
    "sc.pl.umap(adata, color=['leiden'])"
   ]
  },
  {
   "cell_type": "markdown",
   "metadata": {},
   "source": [
    "Most of time, different clustering resolutions should be inspected depending on how fine or coarse grained the clustering of cells should be. We can automate this by looping over different resolutions and adding a key for each clustering resolution."
   ]
  },
  {
   "cell_type": "code",
   "execution_count": null,
   "metadata": {},
   "outputs": [],
   "source": [
    "resolutions = [0.1, 0.3, 0.6, 1, 1.5, 2, 2.5, 3]\n",
    "\n",
    "for res in resolutions:\n",
    "    sc.tl.leiden(adata, resolution=res, key_added='leiden_' + str(res) )"
   ]
  },
  {
   "cell_type": "code",
   "execution_count": null,
   "metadata": {},
   "outputs": [],
   "source": [
    "adata.obs"
   ]
  },
  {
   "cell_type": "code",
   "execution_count": null,
   "metadata": {},
   "outputs": [],
   "source": [
    "sc.pl.umap(adata, color=['leiden_2', 'Gad2', 'Slc17a6'])"
   ]
  },
  {
   "cell_type": "code",
   "execution_count": null,
   "metadata": {},
   "outputs": [],
   "source": [
    "sc.pl.umap(adata, color=['leiden_0.3', 'Gad2', 'Slc17a6'])"
   ]
  },
  {
   "cell_type": "markdown",
   "metadata": {},
   "source": [
    "### Removing doublet clusters"
   ]
  },
  {
   "cell_type": "markdown",
   "metadata": {},
   "source": [
    "Rather than just removing doublets seperately based on a threshold, it can be useful to remove clusters with a high doublet fraction. This way we also capture cells that would just be above a doublet threshold."
   ]
  },
  {
   "cell_type": "code",
   "execution_count": null,
   "metadata": {},
   "outputs": [],
   "source": [
    "adata.obs['str_predicted_doublets'] = [str(dbl) for dbl in adata.obs['predicted_doublets']]\n",
    "sc.pl.umap(adata, color=['str_predicted_doublets', 'leiden_2'])"
   ]
  },
  {
   "cell_type": "markdown",
   "metadata": {},
   "source": [
    "Sometimes it is easier to plot the cluster IDs on the UMAP directly"
   ]
  },
  {
   "cell_type": "code",
   "execution_count": null,
   "metadata": {},
   "outputs": [],
   "source": [
    "sc.pl.umap(adata, color=['str_predicted_doublets', 'leiden_2'], legend_loc='on data')"
   ]
  },
  {
   "cell_type": "markdown",
   "metadata": {},
   "source": [
    "We can compute the fraction of doublets for each cluster using a rather high clustering resolution. This fraction can then be used to clean up our data before computing marker genes."
   ]
  },
  {
   "cell_type": "code",
   "execution_count": null,
   "metadata": {},
   "outputs": [],
   "source": [
    "# what is fraction of doublets per cluster\n",
    "import numpy as np\n",
    "import pandas as pd\n",
    "\n",
    "# init lists\n",
    "list_clusters = np.unique(adata.obs['leiden_2'])\n",
    "list_size = []\n",
    "list_frac_doublets = []\n",
    "\n",
    "# loop over clusters\n",
    "for clus in list_clusters:\n",
    "    clus_adata = adata[adata.obs['leiden_2'] == clus]\n",
    "    \n",
    "    size = clus_adata.shape[0]\n",
    "    n_doublets = sum( clus_adata.obs['predicted_doublets'])\n",
    "    \n",
    "    list_frac_doublets.append( n_doublets / size )\n",
    "    list_size.append(size)\n",
    "    \n",
    "df_frac_doublets = pd.DataFrame(\n",
    "{\n",
    "    'cluster': list_clusters,\n",
    "    'size': list_size,\n",
    "    'frac_doublets': list_frac_doublets\n",
    "}\n",
    ")"
   ]
  },
  {
   "cell_type": "markdown",
   "metadata": {},
   "source": [
    "For a relatively strict filtering of doublet clusters, we could remove all clusters with a fraction of at least `0.3` doublets."
   ]
  },
  {
   "cell_type": "code",
   "execution_count": null,
   "metadata": {},
   "outputs": [],
   "source": [
    "df_frac_doublets.sort_values('frac_doublets', ascending=False)"
   ]
  },
  {
   "cell_type": "markdown",
   "metadata": {},
   "source": [
    "We store the doublet cluster IDs in a list that we can use for filtering "
   ]
  },
  {
   "cell_type": "code",
   "execution_count": null,
   "metadata": {},
   "outputs": [],
   "source": [
    "doublet_clusters = [ clus for clus \n",
    "                    in df_frac_doublets[ df_frac_doublets['frac_doublets'] >= 0.3 ]['cluster'] ]\n",
    "doublet_clusters"
   ]
  },
  {
   "cell_type": "code",
   "execution_count": null,
   "metadata": {},
   "outputs": [],
   "source": [
    "adata"
   ]
  },
  {
   "cell_type": "markdown",
   "metadata": {},
   "source": [
    "You can remove the doublet clusters and doublet by subsessting the anndata object"
   ]
  },
  {
   "cell_type": "code",
   "execution_count": null,
   "metadata": {},
   "outputs": [],
   "source": [
    "adata = adata[ ~adata.obs['leiden_2'].isin(doublet_clusters) ].copy()\n",
    "adata = adata[ adata.obs['predicted_doublets'] == False ].copy()\n",
    "adata"
   ]
  },
  {
   "cell_type": "markdown",
   "metadata": {},
   "source": [
    "After removing doublets and clusters, the clusters should be recomputed"
   ]
  },
  {
   "cell_type": "code",
   "execution_count": null,
   "metadata": {},
   "outputs": [],
   "source": [
    "resolutions = [0.1, 0.3, 0.6, 1, 1.5, 2, 2.5, 3]\n",
    "\n",
    "for res in resolutions:\n",
    "    sc.tl.leiden(adata, resolution=res, key_added='leiden_' + str(res) )"
   ]
  },
  {
   "cell_type": "code",
   "execution_count": null,
   "metadata": {},
   "outputs": [],
   "source": [
    "sc.pl.umap(adata, color=['leiden_0.3'])"
   ]
  },
  {
   "cell_type": "markdown",
   "metadata": {},
   "source": [
    "### Marker genes"
   ]
  },
  {
   "cell_type": "markdown",
   "metadata": {},
   "source": [
    "Now that we cleaned up our single cell data, we can start computing marker genes for clusters to help us understand their characteristics. This is also useful for annotating them for example as different cell types. Marker genes are computed with `sc.tl.rank_genes_groups`. The second argument specifies the clustering or annotation for which we compute. Here we use the Leiden clustering with resolution 0.3 `leiden_0.3`. We also specify the key for storing the clustering `key_added`. SCANPY offer different ways for computing marker genes. Per default we collect all cells from one cluster and compare them against all other cells. Methods for detecting marker genes are:\n",
    "- `t-test`: t-test\n",
    "- `wilcoxon`: Wilcoxon-ranksum test. This test usually works well on single cell data\n",
    "- `logreg`: logistic regression (computational more demanding)\n",
    "For more details see: \n",
    "https://scanpy.readthedocs.io/en/stable/generated/scanpy.tl.rank_genes_groups.html\n",
    "\n",
    "`sc.pl.rank_genes_groups` can be used for plotting the top marker genes per cluster. "
   ]
  },
  {
   "cell_type": "code",
   "execution_count": null,
   "metadata": {},
   "outputs": [],
   "source": [
    "sc.tl.rank_genes_groups(adata, 'leiden_0.3', method='wilcoxon', use_raw=True, key_added='rank_leiden_0.3')\n",
    "sc.pl.rank_genes_groups(adata, n_genes=25, sharey=False, key='rank_leiden_0.3')"
   ]
  },
  {
   "cell_type": "markdown",
   "metadata": {},
   "source": [
    "Marker genes and associated statistics are stored in `.uns`. In this case, `rank_leiden_0.3`."
   ]
  },
  {
   "cell_type": "code",
   "execution_count": null,
   "metadata": {},
   "outputs": [],
   "source": [
    "adata"
   ]
  },
  {
   "cell_type": "code",
   "execution_count": null,
   "metadata": {},
   "outputs": [],
   "source": [
    "adata.uns['rank_leiden_0.3'].keys()"
   ]
  },
  {
   "cell_type": "markdown",
   "metadata": {},
   "source": [
    "A simple way to obtain the marker genes of a cluster as a pandas data frame is `sc.get.rank_genes_groups_df`"
   ]
  },
  {
   "cell_type": "code",
   "execution_count": null,
   "metadata": {},
   "outputs": [],
   "source": [
    "df_ranked_genes = sc.get.rank_genes_groups_df(adata, '0', key='rank_leiden_0.3')\n",
    "df_ranked_genes"
   ]
  },
  {
   "cell_type": "markdown",
   "metadata": {},
   "source": [
    "This data frame can be saved and used for further analysis like enrichment analysis for differentially expressed genes (DEGs), which are explained in other tutorials of this course in more detail. "
   ]
  },
  {
   "cell_type": "code",
   "execution_count": null,
   "metadata": {},
   "outputs": [],
   "source": [
    "outf = outdir + \"/marker_cluster0_rank_leiden_0.3.tsv\"\n",
    "df_ranked_genes.to_csv(outf, sep=\"\\t\", index=None)\n",
    "print(outf)"
   ]
  },
  {
   "cell_type": "markdown",
   "metadata": {},
   "source": [
    "Let's check the expression of the top marker genes on the UMAP"
   ]
  },
  {
   "cell_type": "code",
   "execution_count": null,
   "metadata": {},
   "outputs": [],
   "source": [
    "sc.pl.umap(adata, color=['Plp1', 'Edil3', 'leiden_0.3'], legend_loc='on data')"
   ]
  },
  {
   "cell_type": "markdown",
   "metadata": {},
   "source": [
    "While Plp1 is very specifically expressed in cluster `0`. `Edil3` also shows expression outside of cluster `0`. In addition some genes may show a high log-fold change but are barely expressed anywhere. For a more strict filtering of marker genes, we can use `sc.tl.filter_rank_genes_groups`. Here `min_in_group_fraction` specifies a threshold for the fraction of cells that express the marker in the cluster and `max_out_group_fraction` outside of the clusters. We can also set an additional threshold for the log-fold change here `min_fold_change`. For example, if we set `max_out_group_fraction=0.5` we will keep the top marker gene `Plp1` but label the second best `Edil3` as `nan`."
   ]
  },
  {
   "cell_type": "code",
   "execution_count": null,
   "metadata": {},
   "outputs": [],
   "source": [
    "# sparsity\n",
    "sc.tl.filter_rank_genes_groups(\n",
    "    adata,\n",
    "    min_in_group_fraction=0.25,\n",
    "    max_out_group_fraction=0.5,\n",
    "    min_fold_change=2,\n",
    "    key=\"rank_leiden_0.3\",\n",
    "    key_added=\"rank_leiden_0.3_filtered\",\n",
    ")\n"
   ]
  },
  {
   "cell_type": "code",
   "execution_count": null,
   "metadata": {},
   "outputs": [],
   "source": [
    "sc.pl.rank_genes_groups(adata, n_genes=25, sharey=False, key='rank_leiden_0.3_filtered')"
   ]
  },
  {
   "cell_type": "markdown",
   "metadata": {},
   "source": [
    "As quick way to obtain insights into biological processes, SCANPY offers a wrapper `sc.queries.enrich` for gprofiler (https://biit.cs.ut.ee/gprofiler/gost). Here, we give it a set of genes and specify the species we are looking at: `mmusculus` for mouse and `hsapiens` for human."
   ]
  },
  {
   "cell_type": "code",
   "execution_count": null,
   "metadata": {},
   "outputs": [],
   "source": [
    "df_rank_cur_cluster = sc.get.rank_genes_groups_df(adata, '0', key='rank_leiden_0.3_filtered', \n",
    "                                                  log2fc_min=2, pval_cutoff=0.05)\n",
    "sel_genes = [ gene for gene in df_rank_cur_cluster.dropna()['names'] ]\n",
    "sc.queries.enrich( sel_genes, org='mmusculus').head(n=10)"
   ]
  },
  {
   "cell_type": "code",
   "execution_count": null,
   "metadata": {},
   "outputs": [],
   "source": [
    "df_rank_cur_cluster = sc.get.rank_genes_groups_df(adata, '1', key='rank_leiden_0.3_filtered', \n",
    "                                                  log2fc_min=1, pval_cutoff=0.05)\n",
    "sel_genes = [ gene for gene in df_rank_cur_cluster.dropna()['names'] ]\n",
    "sc.queries.enrich( sel_genes, org='mmusculus').head(n=10)"
   ]
  },
  {
   "cell_type": "markdown",
   "metadata": {},
   "source": [
    "For more specific comparisions, we can specify the foreground clusters `groups` to be tested and the background clusters as `ref`. For example, for a pair-wise test betwenn cluster `7` and cluster `6`:"
   ]
  },
  {
   "cell_type": "code",
   "execution_count": null,
   "metadata": {},
   "outputs": [],
   "source": [
    "sc.tl.rank_genes_groups(adata, 'leiden_0.3', groups=[7], ref=[6], method='wilcoxon', \n",
    "                        use_raw=True, key_added='rank_selgroups_leiden_0.3')"
   ]
  },
  {
   "cell_type": "code",
   "execution_count": null,
   "metadata": {},
   "outputs": [],
   "source": [
    "sc.get.rank_genes_groups_df(adata, '7', key='rank_selgroups_leiden_0.3', \n",
    "                                                  log2fc_min=1, pval_cutoff=0.05)"
   ]
  },
  {
   "cell_type": "markdown",
   "metadata": {},
   "source": [
    "### Annotating celltypes\n",
    "Distinct clusters in single cell data usually corresponds to cell types, subclasses of cell types, or, cell states depending on the clustering resolution.\n",
    "\n",
    "Annotating cell types in single cell data usually requires knowledge of cell type specific marker genes or comparison to related already annotated data sets.\n",
    "\n",
    "If related annotated data sets exist, automated annotation tools can be useful, for example:\n",
    "- ingest: https://scanpy-tutorials.readthedocs.io/en/latest/integrating-data-using-ingest.html\n",
    "- scanvi (should be run on a GPU): https://docs.scvi-tools.org/en/stable/user_guide/models/scanvi.html\n",
    "\n",
    "However, it is still important to manually verify the expression of key marker genes which usually involves literature research or knowledge of marker genes. Here, we will briefly outline the old-fashioned way for annotating single cell clusters"
   ]
  },
  {
   "cell_type": "markdown",
   "metadata": {},
   "source": [
    "For cluster `0`, we already know from gene enrichment analysis that likely corresponds to a celltype involved in mylenation of axons. In addition, the top marker gene of cluster `0` is `Plp1` a known marker gene for oligodendrocytes.\n",
    "\n",
    "For non-neuronal cell types, we know following marker genes:\n",
    "- `Plp1`: oligodendrocytes\n",
    "- `Aqp4`: astrocytes\n",
    "- `Csfr1`: microglia \n",
    "- `Flt1`: also known as VEGFR-1 vascular endothelial celltypes\n",
    "\n",
    "For less simple cases, especially when looking at subclasses, combinations of expressed genes and the absence of the expression of specific genes is often useful for annotating them."
   ]
  },
  {
   "cell_type": "code",
   "execution_count": null,
   "metadata": {},
   "outputs": [],
   "source": [
    "sc.pl.umap(adata, color=['Plp1', 'Aqp4', 'Csf1r', 'Flt1'], cmap='inferno', legend_loc='on data')"
   ]
  },
  {
   "cell_type": "code",
   "execution_count": null,
   "metadata": {},
   "outputs": [],
   "source": [
    "sc.pl.umap(adata, color=['leiden_0.3'], legend_loc='on data')"
   ]
  },
  {
   "cell_type": "markdown",
   "metadata": {},
   "source": [
    "We can store these cell type mappings in dictionary:"
   ]
  },
  {
   "cell_type": "code",
   "execution_count": null,
   "metadata": {},
   "outputs": [],
   "source": [
    "dict_annotate_clusters = {\n",
    "    '0': 'oligodendrocyte',\n",
    "    '5': 'astrocyte',\n",
    "    '6': 'microglia',\n",
    "    '18': 'vascular'\n",
    "}"
   ]
  },
  {
   "cell_type": "markdown",
   "metadata": {},
   "source": [
    "This dictionary can then be used to add an annotation as `.obs` entry. Clusters which we didn't annotate yet, we simply call `unknown_cluster` + the cluster ID:"
   ]
  },
  {
   "cell_type": "code",
   "execution_count": null,
   "metadata": {},
   "outputs": [],
   "source": [
    "[ cluster for cluster in adata.obs['leiden_0.3']]"
   ]
  },
  {
   "cell_type": "code",
   "execution_count": null,
   "metadata": {},
   "outputs": [],
   "source": [
    "adata.obs['celltype'] = [ dict_annotate_clusters[cluster] if cluster in dict_annotate_clusters.keys()\n",
    "                        else 'unknown_cluster' + cluster\n",
    "                        for cluster in adata.obs['leiden_0.3'] ]"
   ]
  },
  {
   "cell_type": "code",
   "execution_count": null,
   "metadata": {},
   "outputs": [],
   "source": [
    "dict_annotate_clusters['0']"
   ]
  },
  {
   "cell_type": "code",
   "execution_count": null,
   "metadata": {},
   "outputs": [],
   "source": [
    "sc.pl.umap(adata, color=['celltype'], legend_loc='on data')"
   ]
  },
  {
   "cell_type": "markdown",
   "metadata": {},
   "source": [
    "### TASK: \n",
    "\n",
    "MGE interneurons can be identified by `Pvalb` and `Sst` gene expression while `Vip` is a gene characteristic to CGE interneurons.\n",
    "    \n",
    "1. Which clusters correspond to MGE and which to CGE interneurons? \n",
    "2. What are the top two differentially expressed genes for each cluster based based on pair-wise comparison ?\n",
    "3. Visualize the expression of the top two genes for the MGE and CGE interneurons cluster"
   ]
  },
  {
   "cell_type": "code",
   "execution_count": null,
   "metadata": {},
   "outputs": [],
   "source": []
  },
  {
   "cell_type": "code",
   "execution_count": null,
   "metadata": {},
   "outputs": [],
   "source": []
  },
  {
   "cell_type": "code",
   "execution_count": null,
   "metadata": {},
   "outputs": [],
   "source": []
  },
  {
   "cell_type": "code",
   "execution_count": null,
   "metadata": {},
   "outputs": [],
   "source": []
  },
  {
   "cell_type": "code",
   "execution_count": null,
   "metadata": {},
   "outputs": [],
   "source": []
  },
  {
   "cell_type": "code",
   "execution_count": null,
   "metadata": {},
   "outputs": [],
   "source": []
  }
 ],
 "metadata": {
  "kernelspec": {
   "display_name": "Python 3",
   "language": "python",
   "name": "python3"
  },
  "language_info": {
   "codemirror_mode": {
    "name": "ipython",
    "version": 3
   },
   "file_extension": ".py",
   "mimetype": "text/x-python",
   "name": "python",
   "nbconvert_exporter": "python",
   "pygments_lexer": "ipython3",
   "version": "3.9.18"
  }
 },
 "nbformat": 4,
 "nbformat_minor": 2
}
