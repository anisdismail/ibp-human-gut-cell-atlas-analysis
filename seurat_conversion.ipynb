{
 "cells": [
  {
   "cell_type": "code",
   "execution_count": 5,
   "metadata": {
    "vscode": {
     "languageId": "r"
    }
   },
   "outputs": [],
   "source": [
    "# Import Libraries\n",
    "library(Seurat)\n",
    "library(SeuratData)\n",
    "library(SeuratDisk)\n"
   ]
  },
  {
   "cell_type": "code",
   "execution_count": 6,
   "metadata": {
    "vscode": {
     "languageId": "r"
    }
   },
   "outputs": [
    {
     "name": "stderr",
     "output_type": "stream",
     "text": [
      "Validating h5Seurat file\n",
      "\n"
     ]
    },
    {
     "data": {
      "text/plain": [
       "Class: h5Seurat\n",
       "Filename: /media/gambino/students_workdir/ibp/Fullgutcelldata_140k.h5seurat\n",
       "Access type: H5F_ACC_RDONLY\n",
       "Attributes: version, project, active.assay\n",
       "Listing:\n",
       "         name    obj_type dataset.dims dataset.type_class\n",
       " active.ident   H5I_GROUP         <NA>               <NA>\n",
       "       assays   H5I_GROUP         <NA>               <NA>\n",
       "   cell.names H5I_DATASET       142219         H5T_STRING\n",
       "     commands   H5I_GROUP         <NA>               <NA>\n",
       "       graphs   H5I_GROUP         <NA>               <NA>\n",
       "       images   H5I_GROUP         <NA>               <NA>\n",
       "    meta.data   H5I_GROUP         <NA>               <NA>\n",
       "         misc   H5I_GROUP         <NA>               <NA>\n",
       "    neighbors   H5I_GROUP         <NA>               <NA>\n",
       "   reductions   H5I_GROUP         <NA>               <NA>\n",
       "< Printed 10, out of 11>"
      ]
     },
     "metadata": {},
     "output_type": "display_data"
    }
   ],
   "source": [
    "data_path='/media/gambino/students_workdir/ibp/Fullgutcelldata_140k.h5seurat'\n",
    "adata<-Connect(data_path)\n",
    "adata"
   ]
  },
  {
   "cell_type": "code",
   "execution_count": 8,
   "metadata": {
    "vscode": {
     "languageId": "r"
    }
   },
   "outputs": [
    {
     "name": "stderr",
     "output_type": "stream",
     "text": [
      "Validating h5Seurat file\n",
      "\n",
      "Adding scale.data from RNA as X\n",
      "\n",
      "Transfering meta.features to var\n",
      "\n",
      "Adding data from RNA as raw\n",
      "\n"
     ]
    }
   ],
   "source": [
    "Convert(data_path, to = \"anndata\", dest = './fullgut2.h5ad')"
   ]
  },
  {
   "cell_type": "code",
   "execution_count": null,
   "metadata": {
    "vscode": {
     "languageId": "r"
    }
   },
   "outputs": [],
   "source": []
  }
 ],
 "metadata": {
  "kernelspec": {
   "display_name": "raf_r_kernel",
   "language": "R",
   "name": "ir33"
  },
  "language_info": {
   "codemirror_mode": "r",
   "file_extension": ".r",
   "mimetype": "text/x-r-source",
   "name": "R",
   "pygments_lexer": "r",
   "version": "4.3.1"
  }
 },
 "nbformat": 4,
 "nbformat_minor": 2
}
