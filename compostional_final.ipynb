{
 "cells": [
  {
   "cell_type": "code",
   "execution_count": 1,
   "metadata": {},
   "outputs": [
    {
     "name": "stderr",
     "output_type": "stream",
     "text": [
      "2023-12-19 17:16:25.777701: I tensorflow/core/platform/cpu_feature_guard.cc:182] This TensorFlow binary is optimized to use available CPU instructions in performance-critical operations.\n",
      "To enable the following instructions: AVX2 FMA, in other operations, rebuild TensorFlow with the appropriate compiler flags.\n"
     ]
    }
   ],
   "source": [
    "import warnings\n",
    "warnings.filterwarnings(\"ignore\")\n",
    "\n",
    "import pandas as pd\n",
    "import matplotlib.pyplot as plt\n",
    "import arviz as az\n",
    "\n",
    "from sccoda.util import comp_ana as mod\n",
    "from sccoda.util import cell_composition_data as dat\n",
    "from sccoda.util import data_visualization as viz\n",
    "import anndata \n",
    "import warnings\n",
    "\n",
    "import pandas as pd\n",
    "\n",
    "warnings.filterwarnings(\"ignore\")\n",
    "warnings.simplefilter(\"ignore\")\n",
    "\n",
    "import scanpy as sc\n",
    "import numpy as np\n",
    "import tensorflow as tf\n",
    "\n",
    "import matplotlib.pyplot as plt\n",
    "import matplotlib\n",
    "import seaborn as sns\n",
    "import altair as alt\n",
    "import pertpy as pt\n",
    "import anndata as an"
   ]
  },
  {
   "cell_type": "code",
   "execution_count": 2,
   "metadata": {},
   "outputs": [
    {
     "data": {
      "text/plain": [
       "AnnData object with n_obs × n_vars = 428469 × 30535\n",
       "    obs: 'Sample name', 'Diagnosis', 'Age', 'sample name', 'Region code', 'Fraction', 'Gender', 'Region', '10X', 'batch', 'n_genes', 'n_genes_by_counts', 'total_counts', 'total_counts_mt', 'pct_counts_mt', 'doublet_scores', 'predicted_doublets', 'category', 'Age_group', 'Integrated_05'\n",
       "    var: 'gene_ids', 'mt', 'n_cells_by_counts', 'mean_counts', 'pct_dropout_by_counts', 'total_counts', 'n_cells'\n",
       "    uns: 'Integrated_colors', 'category2_colors', 'category_colors', \"dendrogram_['Integrated']\", \"dendrogram_['Integrated_05']\", 'hvg', 'neighbors', 'pca', 'umap'\n",
       "    obsm: 'X_pca', 'X_umap'"
      ]
     },
     "execution_count": 2,
     "metadata": {},
     "output_type": "execute_result"
    }
   ],
   "source": [
    "adata = anndata.read(\"/media/gambino/students_workdir/ibp/Full_obj_log_counts_soupx_v2.h5ad\")\n",
    "adata"
   ]
  },
  {
   "cell_type": "markdown",
   "metadata": {},
   "source": [
    "Here we need to reorder the categories, so that we can compare the small intestine to the other regions"
   ]
  },
  {
   "cell_type": "code",
   "execution_count": 3,
   "metadata": {},
   "outputs": [
    {
     "data": {
      "text/plain": [
       "AAACCTGAGAACAACT-1-4918STDY7333456    SmallInt\n",
       "AAACCTGAGCGATATA-1-4918STDY7333456    SmallInt\n",
       "AAACCTGAGGAGTTTA-1-4918STDY7333456    SmallInt\n",
       "AAACCTGAGTATCTCG-1-4918STDY7333456    SmallInt\n",
       "AAACCTGAGTGACTCT-1-4918STDY7333456    SmallInt\n",
       "                                        ...   \n",
       "TTTGGTTTCAACACGT-1-WTDAtest7770719    LargeInt\n",
       "TTTGGTTTCCAAATGC-1-WTDAtest7770719    LargeInt\n",
       "TTTGGTTTCGGCGGTT-1-WTDAtest7770719    LargeInt\n",
       "TTTGTCAGTGAAAGAG-1-WTDAtest7770719    LargeInt\n",
       "TTTGTCATCTTGACGA-1-WTDAtest7770719    LargeInt\n",
       "Name: Region, Length: 428469, dtype: category\n",
       "Categories (5, object): ['SmallInt', 'LargeInt', 'APD', 'REC', 'lymph node']"
      ]
     },
     "execution_count": 3,
     "metadata": {},
     "output_type": "execute_result"
    }
   ],
   "source": [
    "adata.obs[\"Region\"] = adata.obs[\"Region\"].cat.reorder_categories([\"SmallInt\",\"LargeInt\",\"APD\",\"REC\",\"lymph node\"])\n",
    "adata.obs[\"Region\"]"
   ]
  },
  {
   "cell_type": "markdown",
   "metadata": {},
   "source": [
    "Making the Sccoda model with the category labels"
   ]
  },
  {
   "cell_type": "code",
   "execution_count": 4,
   "metadata": {},
   "outputs": [
    {
     "data": {
      "text/html": [
       "<pre>MuData object with n_obs × n_vars = 428628 × 30544\n",
       "  var:\t&#x27;n_cells&#x27;\n",
       "  2 modalities\n",
       "    rna:\t428469 x 30535\n",
       "      obs:\t&#x27;Sample name&#x27;, &#x27;Diagnosis&#x27;, &#x27;Age&#x27;, &#x27;sample name&#x27;, &#x27;Region code&#x27;, &#x27;Fraction&#x27;, &#x27;Gender&#x27;, &#x27;Region&#x27;, &#x27;10X&#x27;, &#x27;batch&#x27;, &#x27;n_genes&#x27;, &#x27;n_genes_by_counts&#x27;, &#x27;total_counts&#x27;, &#x27;total_counts_mt&#x27;, &#x27;pct_counts_mt&#x27;, &#x27;doublet_scores&#x27;, &#x27;predicted_doublets&#x27;, &#x27;category&#x27;, &#x27;Age_group&#x27;, &#x27;Integrated_05&#x27;, &#x27;scCODA_sample_id&#x27;\n",
       "      var:\t&#x27;gene_ids&#x27;, &#x27;mt&#x27;, &#x27;n_cells_by_counts&#x27;, &#x27;mean_counts&#x27;, &#x27;pct_dropout_by_counts&#x27;, &#x27;total_counts&#x27;, &#x27;n_cells&#x27;\n",
       "      uns:\t&#x27;Integrated_colors&#x27;, &#x27;category2_colors&#x27;, &#x27;category_colors&#x27;, &quot;dendrogram_[&#x27;Integrated&#x27;]&quot;, &quot;dendrogram_[&#x27;Integrated_05&#x27;]&quot;, &#x27;hvg&#x27;, &#x27;neighbors&#x27;, &#x27;pca&#x27;, &#x27;umap&#x27;\n",
       "      obsm:\t&#x27;X_pca&#x27;, &#x27;X_umap&#x27;\n",
       "    coda:\t159 x 9\n",
       "      obs:\t&#x27;Region&#x27;, &#x27;batch&#x27;\n",
       "      var:\t&#x27;n_cells&#x27;</pre>"
      ],
      "text/plain": [
       "MuData object with n_obs × n_vars = 428628 × 30544\n",
       "  var:\t'n_cells'\n",
       "  2 modalities\n",
       "    rna:\t428469 x 30535\n",
       "      obs:\t'Sample name', 'Diagnosis', 'Age', 'sample name', 'Region code', 'Fraction', 'Gender', 'Region', '10X', 'batch', 'n_genes', 'n_genes_by_counts', 'total_counts', 'total_counts_mt', 'pct_counts_mt', 'doublet_scores', 'predicted_doublets', 'category', 'Age_group', 'Integrated_05', 'scCODA_sample_id'\n",
       "      var:\t'gene_ids', 'mt', 'n_cells_by_counts', 'mean_counts', 'pct_dropout_by_counts', 'total_counts', 'n_cells'\n",
       "      uns:\t'Integrated_colors', 'category2_colors', 'category_colors', \"dendrogram_['Integrated']\", \"dendrogram_['Integrated_05']\", 'hvg', 'neighbors', 'pca', 'umap'\n",
       "      obsm:\t'X_pca', 'X_umap'\n",
       "    coda:\t159 x 9\n",
       "      obs:\t'Region', 'batch'\n",
       "      var:\t'n_cells'"
      ]
     },
     "execution_count": 4,
     "metadata": {},
     "output_type": "execute_result"
    }
   ],
   "source": [
    "sccoda_model = pt.tl.Sccoda()\n",
    "sccoda_data = sccoda_model.load(\n",
    "    adata,\n",
    "    type=\"cell_level\",\n",
    "    generate_sample_level=True,\n",
    "    cell_type_identifier=\"category\",\n",
    "    sample_identifier=\"batch\",\n",
    "    covariate_obs=[\"Region\"],\n",
    ")\n",
    "sccoda_data"
   ]
  },
  {
   "cell_type": "code",
   "execution_count": 5,
   "metadata": {},
   "outputs": [],
   "source": [
    "data_all= sccoda_data.mod[\"coda\"]"
   ]
  },
  {
   "cell_type": "markdown",
   "metadata": {},
   "source": [
    "We prepare the sccoda model with the reference cell type as Myeloid, because it stays fairly constant throughout the different region. However, it's below sccoda's level to be selected automatically, so afterwards we'll prepare a model that alternates the reference celltype and count how often compositional differences appear"
   ]
  },
  {
   "cell_type": "code",
   "execution_count": 6,
   "metadata": {},
   "outputs": [
    {
     "name": "stdout",
     "output_type": "stream",
     "text": [
      "Zero counts encountered in data! Added a pseudocount of 0.5.\n"
     ]
    }
   ],
   "source": [
    "model = mod.CompositionalAnalysis(data_all, formula=\"Region\",reference_cell_type=\"Myeloid\")"
   ]
  },
  {
   "cell_type": "code",
   "execution_count": 7,
   "metadata": {},
   "outputs": [
    {
     "data": {
      "text/plain": [
       "<Axes: xlabel='Cell type', ylabel='Proportion'>"
      ]
     },
     "execution_count": 7,
     "metadata": {},
     "output_type": "execute_result"
    },
    {
     "data": {
      "image/png": "[encoded data removed]",
      "text/plain": [
       "<Figure size 640x480 with 1 Axes>"
      ]
     },
     "metadata": {},
     "output_type": "display_data"
    }
   ],
   "source": [
    "viz.boxplots(data_all,feature_name=\"Region\")"
   ]
  },
  {
   "cell_type": "code",
   "execution_count": 8,
   "metadata": {},
   "outputs": [
    {
     "name": "stdout",
     "output_type": "stream",
     "text": [
      "[('SmallInt', 'B cells'), ('SmallInt', 'T cells'), ('SmallInt', 'Epithelial'), ('SmallInt', 'Mesenchymal'), ('SmallInt', 'Plasma cells'), ('SmallInt', 'Myeloid'), ('SmallInt', 'Endothelial'), ('SmallInt', 'Neuronal'), ('SmallInt', 'Red blood cells'), ('LargeInt', 'B cells'), ('LargeInt', 'T cells'), ('LargeInt', 'Epithelial'), ('LargeInt', 'Mesenchymal'), ('LargeInt', 'Plasma cells'), ('LargeInt', 'Myeloid'), ('LargeInt', 'Endothelial'), ('LargeInt', 'Neuronal'), ('LargeInt', 'Red blood cells'), ('APD', 'B cells'), ('APD', 'T cells'), ('APD', 'Epithelial'), ('APD', 'Mesenchymal'), ('APD', 'Plasma cells'), ('APD', 'Myeloid'), ('APD', 'Endothelial'), ('APD', 'Neuronal'), ('APD', 'Red blood cells'), ('lymph node', 'B cells'), ('lymph node', 'T cells'), ('lymph node', 'Epithelial'), ('lymph node', 'Mesenchymal'), ('lymph node', 'Plasma cells'), ('lymph node', 'Myeloid'), ('lymph node', 'Endothelial'), ('lymph node', 'Neuronal'), ('lymph node', 'Red blood cells'), ('REC', 'B cells'), ('REC', 'T cells'), ('REC', 'Epithelial'), ('REC', 'Mesenchymal'), ('REC', 'Plasma cells'), ('REC', 'Myeloid'), ('REC', 'Endothelial'), ('REC', 'Neuronal'), ('REC', 'Red blood cells')]\n"
     ]
    }
   ],
   "source": [
    "conditions = adata.obs[\"Region\"].unique()\n",
    "cell_types = adata.obs[\"category\"].unique()\n",
    "outlist = [(i,j) \n",
    "           for i in conditions\n",
    "           for j in cell_types]\n",
    "print(outlist)\n",
    "results_cycle = pd.DataFrame(data=outlist)\n",
    "results_cycle[\"times_credible\"]=[0]*len(results_cycle[0])\n",
    "results_cycle.columns=[\"Covariate\",\"Cell Type\",\"times_credible\"]\n"
   ]
  },
  {
   "cell_type": "markdown",
   "metadata": {},
   "source": [
    "Here we run a loop to cycle through each category and use each as a reference and count the number of times the model returns a significantly different result"
   ]
  },
  {
   "cell_type": "code",
   "execution_count": 9,
   "metadata": {},
   "outputs": [
    {
     "name": "stdout",
     "output_type": "stream",
     "text": [
      "Reference: B cells\n",
      "Zero counts encountered in data! Added a pseudocount of 0.5.\n"
     ]
    },
    {
     "name": "stderr",
     "output_type": "stream",
     "text": [
      "  0%|          | 0/20000 [00:00<?, ?it/s]2023-12-19 17:18:09.202920: I external/local_xla/xla/service/service.cc:168] XLA service 0x7f834c00bcd0 initialized for platform Host (this does not guarantee that XLA will be used). Devices:\n",
      "2023-12-19 17:18:09.202960: I external/local_xla/xla/service/service.cc:176]   StreamExecutor device (0): Host, Default Version\n",
      "2023-12-19 17:18:09.621632: I tensorflow/compiler/mlir/tensorflow/utils/dump_mlir_util.cc:269] disabling MLIR crash reproducer, set env var `MLIR_CRASH_REPRODUCER_DIRECTORY` to enable.\n",
      "WARNING: All log messages before absl::InitializeLog() is called are written to STDERR\n",
      "I0000 00:00:1703002690.780728 2175515 device_compiler.h:186] Compiled cluster using XLA!  This line is logged at most once for the lifetime of the process.\n",
      "2023-12-19 17:18:10.795163: E external/local_xla/xla/stream_executor/stream_executor_internal.h:177] SetPriority unimplemented for this stream.\n",
      "100%|██████████| 20000/20000 [02:36<00:00, 127.62it/s]\n"
     ]
    },
    {
     "name": "stdout",
     "output_type": "stream",
     "text": [
      "MCMC sampling finished. (198.080 sec)\n",
      "Acceptance rate: 79.6%\n",
      "     Covariate        Cell Type  times_credible\n",
      "0     SmallInt          B cells             0.0\n",
      "1     SmallInt          T cells             0.0\n",
      "2     SmallInt       Epithelial             0.0\n",
      "3     SmallInt      Mesenchymal             0.0\n",
      "4     SmallInt     Plasma cells             0.0\n",
      "5     SmallInt          Myeloid             0.0\n",
      "6     SmallInt      Endothelial             0.0\n",
      "7     SmallInt         Neuronal             0.0\n",
      "8     SmallInt  Red blood cells             0.0\n",
      "9     LargeInt          B cells             0.0\n",
      "10    LargeInt          T cells             0.0\n",
      "11    LargeInt       Epithelial             0.0\n",
      "12    LargeInt      Mesenchymal             0.0\n",
      "13    LargeInt     Plasma cells             0.0\n",
      "14    LargeInt          Myeloid             0.0\n",
      "15    LargeInt      Endothelial             0.0\n",
      "16    LargeInt         Neuronal             0.0\n",
      "17    LargeInt  Red blood cells             0.0\n",
      "18         APD          B cells             0.0\n",
      "19         APD          T cells             0.0\n",
      "20         APD       Epithelial             0.0\n",
      "21         APD      Mesenchymal             0.0\n",
      "22         APD     Plasma cells             0.0\n",
      "23         APD          Myeloid             0.0\n",
      "24         APD      Endothelial             0.0\n",
      "25         APD         Neuronal             0.0\n",
      "26         APD  Red blood cells             0.0\n",
      "27  lymph node          B cells             0.0\n",
      "28  lymph node          T cells             0.0\n",
      "29  lymph node       Epithelial             0.0\n",
      "30  lymph node      Mesenchymal             0.0\n",
      "31  lymph node     Plasma cells             0.0\n",
      "32  lymph node          Myeloid             0.0\n",
      "33  lymph node      Endothelial             0.0\n",
      "34  lymph node         Neuronal             0.0\n",
      "35  lymph node  Red blood cells             0.0\n",
      "36         REC          B cells             0.0\n",
      "37         REC          T cells             0.0\n",
      "38         REC       Epithelial             0.0\n",
      "39         REC      Mesenchymal             0.0\n",
      "40         REC     Plasma cells             0.0\n",
      "41         REC          Myeloid             0.0\n",
      "42         REC      Endothelial             0.0\n",
      "43         REC         Neuronal             0.0\n",
      "44         REC  Red blood cells             0.0\n",
      "Reference: T cells\n",
      "Zero counts encountered in data! Added a pseudocount of 0.5.\n"
     ]
    },
    {
     "name": "stderr",
     "output_type": "stream",
     "text": [
      "100%|██████████| 20000/20000 [02:36<00:00, 127.95it/s]\n"
     ]
    },
    {
     "name": "stdout",
     "output_type": "stream",
     "text": [
      "MCMC sampling finished. (197.091 sec)\n",
      "Acceptance rate: 52.9%\n",
      "     Covariate        Cell Type  times_credible\n",
      "0     SmallInt          B cells             0.0\n",
      "1     SmallInt          T cells             0.0\n",
      "2     SmallInt       Epithelial             0.0\n",
      "3     SmallInt      Mesenchymal             0.0\n",
      "4     SmallInt     Plasma cells             0.0\n",
      "5     SmallInt          Myeloid             0.0\n",
      "6     SmallInt      Endothelial             0.0\n",
      "7     SmallInt         Neuronal             0.0\n",
      "8     SmallInt  Red blood cells             0.0\n",
      "9     LargeInt          B cells             0.0\n",
      "10    LargeInt          T cells             0.0\n",
      "11    LargeInt       Epithelial             0.0\n",
      "12    LargeInt      Mesenchymal             0.0\n",
      "13    LargeInt     Plasma cells             0.0\n",
      "14    LargeInt          Myeloid             0.0\n",
      "15    LargeInt      Endothelial             0.0\n",
      "16    LargeInt         Neuronal             0.0\n",
      "17    LargeInt  Red blood cells             0.0\n",
      "18         APD          B cells             0.0\n",
      "19         APD          T cells             0.0\n",
      "20         APD       Epithelial             0.0\n",
      "21         APD      Mesenchymal             0.0\n",
      "22         APD     Plasma cells             0.0\n",
      "23         APD          Myeloid             0.0\n",
      "24         APD      Endothelial             0.0\n",
      "25         APD         Neuronal             0.0\n",
      "26         APD  Red blood cells             0.0\n",
      "27  lymph node          B cells             0.0\n",
      "28  lymph node          T cells             0.0\n",
      "29  lymph node       Epithelial             0.0\n",
      "30  lymph node      Mesenchymal             0.0\n",
      "31  lymph node     Plasma cells             0.0\n",
      "32  lymph node          Myeloid             0.0\n",
      "33  lymph node      Endothelial             0.0\n",
      "34  lymph node         Neuronal             0.0\n",
      "35  lymph node  Red blood cells             0.0\n",
      "36         REC          B cells             0.0\n",
      "37         REC          T cells             0.0\n",
      "38         REC       Epithelial             0.0\n",
      "39         REC      Mesenchymal             0.0\n",
      "40         REC     Plasma cells             0.0\n",
      "41         REC          Myeloid             0.0\n",
      "42         REC      Endothelial             0.0\n",
      "43         REC         Neuronal             0.0\n",
      "44         REC  Red blood cells             0.0\n",
      "Reference: Epithelial\n",
      "Zero counts encountered in data! Added a pseudocount of 0.5.\n"
     ]
    },
    {
     "name": "stderr",
     "output_type": "stream",
     "text": [
      "100%|██████████| 20000/20000 [02:42<00:00, 122.93it/s]\n"
     ]
    },
    {
     "name": "stdout",
     "output_type": "stream",
     "text": [
      "MCMC sampling finished. (203.632 sec)\n",
      "Acceptance rate: 56.4%\n",
      "     Covariate        Cell Type  times_credible\n",
      "0     SmallInt          B cells             0.0\n",
      "1     SmallInt          T cells             0.0\n",
      "2     SmallInt       Epithelial             0.0\n",
      "3     SmallInt      Mesenchymal             0.0\n",
      "4     SmallInt     Plasma cells             0.0\n",
      "5     SmallInt          Myeloid             0.0\n",
      "6     SmallInt      Endothelial             0.0\n",
      "7     SmallInt         Neuronal             0.0\n",
      "8     SmallInt  Red blood cells             0.0\n",
      "9     LargeInt          B cells             0.0\n",
      "10    LargeInt          T cells             0.0\n",
      "11    LargeInt       Epithelial             0.0\n",
      "12    LargeInt      Mesenchymal             0.0\n",
      "13    LargeInt     Plasma cells             0.0\n",
      "14    LargeInt          Myeloid             0.0\n",
      "15    LargeInt      Endothelial             0.0\n",
      "16    LargeInt         Neuronal             0.0\n",
      "17    LargeInt  Red blood cells             0.0\n",
      "18         APD          B cells             0.0\n",
      "19         APD          T cells             0.0\n",
      "20         APD       Epithelial             0.0\n",
      "21         APD      Mesenchymal             0.0\n",
      "22         APD     Plasma cells             0.0\n",
      "23         APD          Myeloid             0.0\n",
      "24         APD      Endothelial             0.0\n",
      "25         APD         Neuronal             0.0\n",
      "26         APD  Red blood cells             0.0\n",
      "27  lymph node          B cells             0.0\n",
      "28  lymph node          T cells             0.0\n",
      "29  lymph node       Epithelial             0.0\n",
      "30  lymph node      Mesenchymal             0.0\n",
      "31  lymph node     Plasma cells             0.0\n",
      "32  lymph node          Myeloid             0.0\n",
      "33  lymph node      Endothelial             0.0\n",
      "34  lymph node         Neuronal             0.0\n",
      "35  lymph node  Red blood cells             0.0\n",
      "36         REC          B cells             0.0\n",
      "37         REC          T cells             0.0\n",
      "38         REC       Epithelial             0.0\n",
      "39         REC      Mesenchymal             0.0\n",
      "40         REC     Plasma cells             0.0\n",
      "41         REC          Myeloid             0.0\n",
      "42         REC      Endothelial             0.0\n",
      "43         REC         Neuronal             0.0\n",
      "44         REC  Red blood cells             0.0\n",
      "Reference: Mesenchymal\n",
      "Zero counts encountered in data! Added a pseudocount of 0.5.\n"
     ]
    },
    {
     "name": "stderr",
     "output_type": "stream",
     "text": [
      "100%|██████████| 20000/20000 [02:34<00:00, 129.05it/s]\n"
     ]
    },
    {
     "name": "stdout",
     "output_type": "stream",
     "text": [
      "MCMC sampling finished. (195.267 sec)\n",
      "Acceptance rate: 58.2%\n",
      "     Covariate        Cell Type  times_credible\n",
      "0     SmallInt          B cells             0.0\n",
      "1     SmallInt          T cells             0.0\n",
      "2     SmallInt       Epithelial             0.0\n",
      "3     SmallInt      Mesenchymal             0.0\n",
      "4     SmallInt     Plasma cells             0.0\n",
      "5     SmallInt          Myeloid             0.0\n",
      "6     SmallInt      Endothelial             0.0\n",
      "7     SmallInt         Neuronal             0.0\n",
      "8     SmallInt  Red blood cells             0.0\n",
      "9     LargeInt          B cells             0.0\n",
      "10    LargeInt          T cells             0.0\n",
      "11    LargeInt       Epithelial             0.0\n",
      "12    LargeInt      Mesenchymal             0.0\n",
      "13    LargeInt     Plasma cells             0.0\n",
      "14    LargeInt          Myeloid             0.0\n",
      "15    LargeInt      Endothelial             0.0\n",
      "16    LargeInt         Neuronal             0.0\n",
      "17    LargeInt  Red blood cells             0.0\n",
      "18         APD          B cells             0.0\n",
      "19         APD          T cells             0.0\n",
      "20         APD       Epithelial             0.0\n",
      "21         APD      Mesenchymal             0.0\n",
      "22         APD     Plasma cells             0.0\n",
      "23         APD          Myeloid             0.0\n",
      "24         APD      Endothelial             0.0\n",
      "25         APD         Neuronal             0.0\n",
      "26         APD  Red blood cells             0.0\n",
      "27  lymph node          B cells             0.0\n",
      "28  lymph node          T cells             0.0\n",
      "29  lymph node       Epithelial             0.0\n",
      "30  lymph node      Mesenchymal             0.0\n",
      "31  lymph node     Plasma cells             0.0\n",
      "32  lymph node          Myeloid             0.0\n",
      "33  lymph node      Endothelial             0.0\n",
      "34  lymph node         Neuronal             0.0\n",
      "35  lymph node  Red blood cells             0.0\n",
      "36         REC          B cells             0.0\n",
      "37         REC          T cells             0.0\n",
      "38         REC       Epithelial             0.0\n",
      "39         REC      Mesenchymal             0.0\n",
      "40         REC     Plasma cells             0.0\n",
      "41         REC          Myeloid             0.0\n",
      "42         REC      Endothelial             0.0\n",
      "43         REC         Neuronal             0.0\n",
      "44         REC  Red blood cells             0.0\n",
      "Reference: Plasma cells\n",
      "Zero counts encountered in data! Added a pseudocount of 0.5.\n"
     ]
    },
    {
     "name": "stderr",
     "output_type": "stream",
     "text": [
      "100%|██████████| 20000/20000 [02:34<00:00, 129.22it/s]\n"
     ]
    },
    {
     "name": "stdout",
     "output_type": "stream",
     "text": [
      "WARNING:tensorflow:5 out of the last 5 calls to <function CompositionalModel.sampling.<locals>.sample_mcmc at 0x7f85006b7e20> triggered tf.function retracing. Tracing is expensive and the excessive number of tracings could be due to (1) creating @tf.function repeatedly in a loop, (2) passing tensors with different shapes, (3) passing Python objects instead of tensors. For (1), please define your @tf.function outside of the loop. For (2), @tf.function has reduce_retracing=True option that can avoid unnecessary retracing. For (3), please refer to https://www.tensorflow.org/guide/function#controlling_retracing and https://www.tensorflow.org/api_docs/python/tf/function for  more details.\n",
      "MCMC sampling finished. (195.083 sec)\n",
      "Acceptance rate: 44.5%\n",
      "     Covariate        Cell Type  times_credible\n",
      "0     SmallInt          B cells             0.0\n",
      "1     SmallInt          T cells             0.0\n",
      "2     SmallInt       Epithelial             0.0\n",
      "3     SmallInt      Mesenchymal             0.0\n",
      "4     SmallInt     Plasma cells             0.0\n",
      "5     SmallInt          Myeloid             0.0\n",
      "6     SmallInt      Endothelial             0.0\n",
      "7     SmallInt         Neuronal             0.0\n",
      "8     SmallInt  Red blood cells             0.0\n",
      "9     LargeInt          B cells             0.0\n",
      "10    LargeInt          T cells             0.0\n",
      "11    LargeInt       Epithelial             0.0\n",
      "12    LargeInt      Mesenchymal             0.0\n",
      "13    LargeInt     Plasma cells             0.0\n",
      "14    LargeInt          Myeloid             0.0\n",
      "15    LargeInt      Endothelial             0.0\n",
      "16    LargeInt         Neuronal             0.0\n",
      "17    LargeInt  Red blood cells             0.0\n",
      "18         APD          B cells             0.0\n",
      "19         APD          T cells             0.0\n",
      "20         APD       Epithelial             0.0\n",
      "21         APD      Mesenchymal             0.0\n",
      "22         APD     Plasma cells             0.0\n",
      "23         APD          Myeloid             0.0\n",
      "24         APD      Endothelial             0.0\n",
      "25         APD         Neuronal             0.0\n",
      "26         APD  Red blood cells             0.0\n",
      "27  lymph node          B cells             0.0\n",
      "28  lymph node          T cells             0.0\n",
      "29  lymph node       Epithelial             0.0\n",
      "30  lymph node      Mesenchymal             0.0\n",
      "31  lymph node     Plasma cells             0.0\n",
      "32  lymph node          Myeloid             0.0\n",
      "33  lymph node      Endothelial             0.0\n",
      "34  lymph node         Neuronal             0.0\n",
      "35  lymph node  Red blood cells             0.0\n",
      "36         REC          B cells             0.0\n",
      "37         REC          T cells             0.0\n",
      "38         REC       Epithelial             0.0\n",
      "39         REC      Mesenchymal             0.0\n",
      "40         REC     Plasma cells             0.0\n",
      "41         REC          Myeloid             0.0\n",
      "42         REC      Endothelial             0.0\n",
      "43         REC         Neuronal             0.0\n",
      "44         REC  Red blood cells             0.0\n",
      "Reference: Myeloid\n",
      "Zero counts encountered in data! Added a pseudocount of 0.5.\n"
     ]
    },
    {
     "name": "stderr",
     "output_type": "stream",
     "text": [
      "100%|██████████| 20000/20000 [02:35<00:00, 128.80it/s]\n"
     ]
    },
    {
     "name": "stdout",
     "output_type": "stream",
     "text": [
      "WARNING:tensorflow:6 out of the last 6 calls to <function CompositionalModel.sampling.<locals>.sample_mcmc at 0x7f85006b7e20> triggered tf.function retracing. Tracing is expensive and the excessive number of tracings could be due to (1) creating @tf.function repeatedly in a loop, (2) passing tensors with different shapes, (3) passing Python objects instead of tensors. For (1), please define your @tf.function outside of the loop. For (2), @tf.function has reduce_retracing=True option that can avoid unnecessary retracing. For (3), please refer to https://www.tensorflow.org/guide/function#controlling_retracing and https://www.tensorflow.org/api_docs/python/tf/function for  more details.\n",
      "MCMC sampling finished. (195.810 sec)\n",
      "Acceptance rate: 63.6%\n",
      "     Covariate        Cell Type  times_credible\n",
      "0     SmallInt          B cells             0.0\n",
      "1     SmallInt          T cells             0.0\n",
      "2     SmallInt       Epithelial             0.0\n",
      "3     SmallInt      Mesenchymal             0.0\n",
      "4     SmallInt     Plasma cells             0.0\n",
      "5     SmallInt          Myeloid             0.0\n",
      "6     SmallInt      Endothelial             0.0\n",
      "7     SmallInt         Neuronal             0.0\n",
      "8     SmallInt  Red blood cells             0.0\n",
      "9     LargeInt          B cells             0.0\n",
      "10    LargeInt          T cells             0.0\n",
      "11    LargeInt       Epithelial             0.0\n",
      "12    LargeInt      Mesenchymal             0.0\n",
      "13    LargeInt     Plasma cells             0.0\n",
      "14    LargeInt          Myeloid             0.0\n",
      "15    LargeInt      Endothelial             0.0\n",
      "16    LargeInt         Neuronal             0.0\n",
      "17    LargeInt  Red blood cells             0.0\n",
      "18         APD          B cells             0.0\n",
      "19         APD          T cells             0.0\n",
      "20         APD       Epithelial             0.0\n",
      "21         APD      Mesenchymal             0.0\n",
      "22         APD     Plasma cells             0.0\n",
      "23         APD          Myeloid             0.0\n",
      "24         APD      Endothelial             0.0\n",
      "25         APD         Neuronal             0.0\n",
      "26         APD  Red blood cells             0.0\n",
      "27  lymph node          B cells             0.0\n",
      "28  lymph node          T cells             0.0\n",
      "29  lymph node       Epithelial             0.0\n",
      "30  lymph node      Mesenchymal             0.0\n",
      "31  lymph node     Plasma cells             0.0\n",
      "32  lymph node          Myeloid             0.0\n",
      "33  lymph node      Endothelial             0.0\n",
      "34  lymph node         Neuronal             0.0\n",
      "35  lymph node  Red blood cells             0.0\n",
      "36         REC          B cells             0.0\n",
      "37         REC          T cells             0.0\n",
      "38         REC       Epithelial             0.0\n",
      "39         REC      Mesenchymal             0.0\n",
      "40         REC     Plasma cells             0.0\n",
      "41         REC          Myeloid             0.0\n",
      "42         REC      Endothelial             0.0\n",
      "43         REC         Neuronal             0.0\n",
      "44         REC  Red blood cells             0.0\n",
      "Reference: Endothelial\n",
      "Zero counts encountered in data! Added a pseudocount of 0.5.\n"
     ]
    },
    {
     "name": "stderr",
     "output_type": "stream",
     "text": [
      "100%|██████████| 20000/20000 [02:34<00:00, 129.13it/s]\n"
     ]
    },
    {
     "name": "stdout",
     "output_type": "stream",
     "text": [
      "MCMC sampling finished. (195.514 sec)\n",
      "Acceptance rate: 49.2%\n",
      "     Covariate        Cell Type  times_credible\n",
      "0     SmallInt          B cells             0.0\n",
      "1     SmallInt          T cells             0.0\n",
      "2     SmallInt       Epithelial             0.0\n",
      "3     SmallInt      Mesenchymal             0.0\n",
      "4     SmallInt     Plasma cells             0.0\n",
      "5     SmallInt          Myeloid             0.0\n",
      "6     SmallInt      Endothelial             0.0\n",
      "7     SmallInt         Neuronal             0.0\n",
      "8     SmallInt  Red blood cells             0.0\n",
      "9     LargeInt          B cells             0.0\n",
      "10    LargeInt          T cells             0.0\n",
      "11    LargeInt       Epithelial             0.0\n",
      "12    LargeInt      Mesenchymal             0.0\n",
      "13    LargeInt     Plasma cells             0.0\n",
      "14    LargeInt          Myeloid             0.0\n",
      "15    LargeInt      Endothelial             0.0\n",
      "16    LargeInt         Neuronal             0.0\n",
      "17    LargeInt  Red blood cells             0.0\n",
      "18         APD          B cells             0.0\n",
      "19         APD          T cells             0.0\n",
      "20         APD       Epithelial             0.0\n",
      "21         APD      Mesenchymal             0.0\n",
      "22         APD     Plasma cells             0.0\n",
      "23         APD          Myeloid             0.0\n",
      "24         APD      Endothelial             0.0\n",
      "25         APD         Neuronal             0.0\n",
      "26         APD  Red blood cells             0.0\n",
      "27  lymph node          B cells             0.0\n",
      "28  lymph node          T cells             0.0\n",
      "29  lymph node       Epithelial             0.0\n",
      "30  lymph node      Mesenchymal             0.0\n",
      "31  lymph node     Plasma cells             0.0\n",
      "32  lymph node          Myeloid             0.0\n",
      "33  lymph node      Endothelial             0.0\n",
      "34  lymph node         Neuronal             0.0\n",
      "35  lymph node  Red blood cells             0.0\n",
      "36         REC          B cells             0.0\n",
      "37         REC          T cells             0.0\n",
      "38         REC       Epithelial             0.0\n",
      "39         REC      Mesenchymal             0.0\n",
      "40         REC     Plasma cells             0.0\n",
      "41         REC          Myeloid             0.0\n",
      "42         REC      Endothelial             0.0\n",
      "43         REC         Neuronal             0.0\n",
      "44         REC  Red blood cells             0.0\n",
      "Reference: Neuronal\n",
      "Zero counts encountered in data! Added a pseudocount of 0.5.\n"
     ]
    },
    {
     "name": "stderr",
     "output_type": "stream",
     "text": [
      "100%|██████████| 20000/20000 [02:35<00:00, 128.88it/s]\n"
     ]
    },
    {
     "name": "stdout",
     "output_type": "stream",
     "text": [
      "MCMC sampling finished. (195.415 sec)\n",
      "Acceptance rate: 54.7%\n",
      "     Covariate        Cell Type  times_credible\n",
      "0     SmallInt          B cells             0.0\n",
      "1     SmallInt          T cells             0.0\n",
      "2     SmallInt       Epithelial             0.0\n",
      "3     SmallInt      Mesenchymal             0.0\n",
      "4     SmallInt     Plasma cells             0.0\n",
      "5     SmallInt          Myeloid             0.0\n",
      "6     SmallInt      Endothelial             0.0\n",
      "7     SmallInt         Neuronal             0.0\n",
      "8     SmallInt  Red blood cells             0.0\n",
      "9     LargeInt          B cells             0.0\n",
      "10    LargeInt          T cells             0.0\n",
      "11    LargeInt       Epithelial             0.0\n",
      "12    LargeInt      Mesenchymal             0.0\n",
      "13    LargeInt     Plasma cells             0.0\n",
      "14    LargeInt          Myeloid             0.0\n",
      "15    LargeInt      Endothelial             0.0\n",
      "16    LargeInt         Neuronal             0.0\n",
      "17    LargeInt  Red blood cells             0.0\n",
      "18         APD          B cells             0.0\n",
      "19         APD          T cells             0.0\n",
      "20         APD       Epithelial             0.0\n",
      "21         APD      Mesenchymal             0.0\n",
      "22         APD     Plasma cells             0.0\n",
      "23         APD          Myeloid             0.0\n",
      "24         APD      Endothelial             0.0\n",
      "25         APD         Neuronal             0.0\n",
      "26         APD  Red blood cells             0.0\n",
      "27  lymph node          B cells             0.0\n",
      "28  lymph node          T cells             0.0\n",
      "29  lymph node       Epithelial             0.0\n",
      "30  lymph node      Mesenchymal             0.0\n",
      "31  lymph node     Plasma cells             0.0\n",
      "32  lymph node          Myeloid             0.0\n",
      "33  lymph node      Endothelial             0.0\n",
      "34  lymph node         Neuronal             0.0\n",
      "35  lymph node  Red blood cells             0.0\n",
      "36         REC          B cells             0.0\n",
      "37         REC          T cells             0.0\n",
      "38         REC       Epithelial             0.0\n",
      "39         REC      Mesenchymal             0.0\n",
      "40         REC     Plasma cells             0.0\n",
      "41         REC          Myeloid             0.0\n",
      "42         REC      Endothelial             0.0\n",
      "43         REC         Neuronal             0.0\n",
      "44         REC  Red blood cells             0.0\n",
      "Reference: Red blood cells\n",
      "Zero counts encountered in data! Added a pseudocount of 0.5.\n"
     ]
    },
    {
     "name": "stderr",
     "output_type": "stream",
     "text": [
      "100%|██████████| 20000/20000 [02:35<00:00, 128.64it/s]\n"
     ]
    },
    {
     "name": "stdout",
     "output_type": "stream",
     "text": [
      "MCMC sampling finished. (196.216 sec)\n",
      "Acceptance rate: 45.1%\n",
      "     Covariate        Cell Type  times_credible\n",
      "0     SmallInt          B cells             0.0\n",
      "1     SmallInt          T cells             0.0\n",
      "2     SmallInt       Epithelial             0.0\n",
      "3     SmallInt      Mesenchymal             0.0\n",
      "4     SmallInt     Plasma cells             0.0\n",
      "5     SmallInt          Myeloid             0.0\n",
      "6     SmallInt      Endothelial             0.0\n",
      "7     SmallInt         Neuronal             0.0\n",
      "8     SmallInt  Red blood cells             0.0\n",
      "9     LargeInt          B cells             0.0\n",
      "10    LargeInt          T cells             0.0\n",
      "11    LargeInt       Epithelial             0.0\n",
      "12    LargeInt      Mesenchymal             0.0\n",
      "13    LargeInt     Plasma cells             0.0\n",
      "14    LargeInt          Myeloid             0.0\n",
      "15    LargeInt      Endothelial             0.0\n",
      "16    LargeInt         Neuronal             0.0\n",
      "17    LargeInt  Red blood cells             0.0\n",
      "18         APD          B cells             0.0\n",
      "19         APD          T cells             0.0\n",
      "20         APD       Epithelial             0.0\n",
      "21         APD      Mesenchymal             0.0\n",
      "22         APD     Plasma cells             0.0\n",
      "23         APD          Myeloid             0.0\n",
      "24         APD      Endothelial             0.0\n",
      "25         APD         Neuronal             0.0\n",
      "26         APD  Red blood cells             0.0\n",
      "27  lymph node          B cells             0.0\n",
      "28  lymph node          T cells             0.0\n",
      "29  lymph node       Epithelial             0.0\n",
      "30  lymph node      Mesenchymal             0.0\n",
      "31  lymph node     Plasma cells             0.0\n",
      "32  lymph node          Myeloid             0.0\n",
      "33  lymph node      Endothelial             0.0\n",
      "34  lymph node         Neuronal             0.0\n",
      "35  lymph node  Red blood cells             0.0\n",
      "36         REC          B cells             0.0\n",
      "37         REC          T cells             0.0\n",
      "38         REC       Epithelial             0.0\n",
      "39         REC      Mesenchymal             0.0\n",
      "40         REC     Plasma cells             0.0\n",
      "41         REC          Myeloid             0.0\n",
      "42         REC      Endothelial             0.0\n",
      "43         REC         Neuronal             0.0\n",
      "44         REC  Red blood cells             0.0\n"
     ]
    }
   ],
   "source": [
    "for ct in cell_types:\n",
    "    print(f\"Reference: {ct}\")\n",
    "\n",
    "    # Run inference\n",
    "    model_temp = mod.CompositionalAnalysis(data_all, formula=\"Region\", reference_cell_type=ct)\n",
    "    temp_results = model_temp.sample_hmc(num_results=20000)\n",
    "\n",
    "    # Select credible effects\n",
    "    test = temp_results.credible_effects().reset_index()\n",
    "    test[\"Final Parameter\"] = test[\"Final Parameter\"].astype(\"int\")\n",
    "    test['Covariate'] = test.Covariate.apply(lambda x: x[12:-1])\n",
    "    results_cycle = pd.merge(test,results_cycle,how='right',on=[\"Covariate\",\"Cell Type\"])\n",
    "    results_cycle['Final Parameter'] = results_cycle['Final Parameter'].fillna(0)\n",
    "    results_cycle['times_credible'] = results_cycle['Final Parameter'] + results_cycle[\"times_credible\"]\n",
    "    results_cycle = results_cycle.drop(columns=[\"Final Parameter\"])\n",
    "    # add up credible effects\n",
    "    print(results_cycle)\n"
   ]
  },
  {
   "cell_type": "code",
   "execution_count": 10,
   "metadata": {},
   "outputs": [
    {
     "name": "stdout",
     "output_type": "stream",
     "text": [
      "     Covariate        Cell Type  times_credible  pct_credible  is_credible\n",
      "0     SmallInt          B cells             0.0           0.0        False\n",
      "1     SmallInt          T cells             0.0           0.0        False\n",
      "2     SmallInt       Epithelial             0.0           0.0        False\n",
      "3     SmallInt      Mesenchymal             0.0           0.0        False\n",
      "4     SmallInt     Plasma cells             0.0           0.0        False\n",
      "5     SmallInt          Myeloid             0.0           0.0        False\n",
      "6     SmallInt      Endothelial             0.0           0.0        False\n",
      "7     SmallInt         Neuronal             0.0           0.0        False\n",
      "8     SmallInt  Red blood cells             0.0           0.0        False\n",
      "9     LargeInt          B cells             0.0           0.0        False\n",
      "10    LargeInt          T cells             0.0           0.0        False\n",
      "11    LargeInt       Epithelial             0.0           0.0        False\n",
      "12    LargeInt      Mesenchymal             0.0           0.0        False\n",
      "13    LargeInt     Plasma cells             0.0           0.0        False\n",
      "14    LargeInt          Myeloid             0.0           0.0        False\n",
      "15    LargeInt      Endothelial             0.0           0.0        False\n",
      "16    LargeInt         Neuronal             0.0           0.0        False\n",
      "17    LargeInt  Red blood cells             0.0           0.0        False\n",
      "18         APD          B cells             0.0           0.0        False\n",
      "19         APD          T cells             0.0           0.0        False\n",
      "20         APD       Epithelial             0.0           0.0        False\n",
      "21         APD      Mesenchymal             0.0           0.0        False\n",
      "22         APD     Plasma cells             0.0           0.0        False\n",
      "23         APD          Myeloid             0.0           0.0        False\n",
      "24         APD      Endothelial             0.0           0.0        False\n",
      "25         APD         Neuronal             0.0           0.0        False\n",
      "26         APD  Red blood cells             0.0           0.0        False\n",
      "27  lymph node          B cells             0.0           0.0        False\n",
      "28  lymph node          T cells             0.0           0.0        False\n",
      "29  lymph node       Epithelial             0.0           0.0        False\n",
      "30  lymph node      Mesenchymal             0.0           0.0        False\n",
      "31  lymph node     Plasma cells             0.0           0.0        False\n",
      "32  lymph node          Myeloid             0.0           0.0        False\n",
      "33  lymph node      Endothelial             0.0           0.0        False\n",
      "34  lymph node         Neuronal             0.0           0.0        False\n",
      "35  lymph node  Red blood cells             0.0           0.0        False\n",
      "36         REC          B cells             0.0           0.0        False\n",
      "37         REC          T cells             0.0           0.0        False\n",
      "38         REC       Epithelial             0.0           0.0        False\n",
      "39         REC      Mesenchymal             0.0           0.0        False\n",
      "40         REC     Plasma cells             0.0           0.0        False\n",
      "41         REC          Myeloid             0.0           0.0        False\n",
      "42         REC      Endothelial             0.0           0.0        False\n",
      "43         REC         Neuronal             0.0           0.0        False\n",
      "44         REC  Red blood cells             0.0           0.0        False\n"
     ]
    }
   ],
   "source": [
    "results_cycle[\"pct_credible\"] = results_cycle[\"times_credible\"]/len(cell_types)\n",
    "results_cycle[\"is_credible\"] = results_cycle[\"pct_credible\"] > 0.5\n",
    "print(results_cycle)"
   ]
  },
  {
   "cell_type": "code",
   "execution_count": null,
   "metadata": {},
   "outputs": [],
   "source": []
  }
 ],
 "metadata": {
  "kernelspec": {
   "display_name": "raf_comp",
   "language": "python",
   "name": "python3"
  },
  "language_info": {
   "codemirror_mode": {
    "name": "ipython",
    "version": 3
   },
   "file_extension": ".py",
   "mimetype": "text/x-python",
   "name": "python",
   "nbconvert_exporter": "python",
   "pygments_lexer": "ipython3",
   "version": "3.10.0"
  }
 },
 "nbformat": 4,
 "nbformat_minor": 2
}
