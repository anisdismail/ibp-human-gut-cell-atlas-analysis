{
 "cells": [
  {
   "attachments": {},
   "cell_type": "markdown",
   "metadata": {},
   "source": [
    "# SPOTlight pipeline\n",
    "\n",
    "The link to the tutorial from which this notebook is adapted can be found [here](https://marcelosua.github.io/SPOTlight/articles/SPOTlight_kidney.html#workflow). Certain changes have been made to adapt the different object types that this notebook is dealing with."
   ]
  },
  {
   "attachments": {},
   "cell_type": "markdown",
   "metadata": {},
   "source": [
    "## Load the required libraries\n",
    "\n",
    "`reticulate` must be installed on the conda environment that contains the R kernel.\n",
    "The next step sets up `reticulate` to use the 'right' python. Following this, `reticulate` "
   ]
  },
  {
   "cell_type": "code",
   "execution_count": null,
   "metadata": {
    "vscode": {
     "languageId": "r"
    }
   },
   "outputs": [],
   "source": [
    "library(SPOTlight)\n",
    "library(rhdf5)\n",
    "Sys.setenv(RETICULATE_PYTHON = \"/media/gambino/students_workdir/ibp/gautam/miniconda3/envs/r_kernel/bin/python\")\n",
    "library(reticulate)\n",
    "use_condaenv(condaenv = \"r_kernel\", conda  = \"/media/gambino/students_workdir/ibp/gautam/miniconda3/bin/conda\")\n",
    "library(anndata)\n",
    "library(SpatialExperiment)\n",
    "library(SingleCellExperiment)\n",
    "library(scater)\n",
    "library(scran)\n",
    "library(zellkonverter)\n",
    "library(Seurat)\n",
    "library(dplyr)\n",
    "library(Matrix)\n",
    "library(ggcorrplot)\n",
    "library(Polychrome)\n",
    "\n",
    "spatial_data_path <- \"path/to/spatial_data/sample/outs\"\n",
    "spatial_sample_name <- \"sample\"\n",
    "scRNAseq_data_path <- \"path/to/scRNAseq_data\""
   ]
  },
  {
   "attachments": {},
   "cell_type": "markdown",
   "metadata": {},
   "source": [
    "## Read in the Visium file"
   ]
  },
  {
   "cell_type": "code",
   "execution_count": 2,
   "metadata": {
    "vscode": {
     "languageId": "r"
    }
   },
   "outputs": [],
   "source": [
    "spe <- read10xVisium(\n",
    "  samples = spatial_data_path,\n",
    "  sample_id = sample,\n",
    "  type = \"HDF5\",\n",
    "  data = \"filtered\",\n",
    "  images = \"hires\",\n",
    "  load = FALSE\n",
    ")"
   ]
  },
  {
   "attachments": {},
   "cell_type": "markdown",
   "metadata": {},
   "source": [
    "## Change the row names of the Visium count matrix to refer to the genes' names rather than their Ensemble IDs"
   ]
  },
  {
   "cell_type": "code",
   "execution_count": 3,
   "metadata": {
    "vscode": {
     "languageId": "r"
    }
   },
   "outputs": [],
   "source": [
    "rownames(spe) <- rowData(spe)$symbol"
   ]
  },
  {
   "attachments": {},
   "cell_type": "markdown",
   "metadata": {},
   "source": [
    "## Read the scRNA-seq data"
   ]
  },
  {
   "cell_type": "code",
   "execution_count": 4,
   "metadata": {
    "vscode": {
     "languageId": "r"
    }
   },
   "outputs": [],
   "source": [
    "adata <- read_h5ad(scRNAseq_data_path)"
   ]
  },
  {
   "attachments": {},
   "cell_type": "markdown",
   "metadata": {},
   "source": [
    "## Subset the data appropriately\n",
    "\n",
    "SPOTlight was made to work very easily with the Bioconductor RNA-seq ecosystem (`SpatialExperiment`, `SingleCellExperiment` etc.) but unfortunately, with AnnData objects, any processing must be done directly on the appropriate data structure (Counts matrix or the observations table)."
   ]
  },
  {
   "cell_type": "code",
   "execution_count": 5,
   "metadata": {
    "vscode": {
     "languageId": "r"
    }
   },
   "outputs": [],
   "source": [
    "intestine_idx <- which((adata$obs)$Field1 == \"Your subset measure 1\" & (adata$obs)$Field2 == \"Your subset measure 2\")\n",
    "# Extract the count matrix from the AnnData object\n",
    "count_matrix <- adata$X\n",
    "# Extract the observations\n",
    "obs <- adata$obs"
   ]
  },
  {
   "attachments": {},
   "cell_type": "markdown",
   "metadata": {},
   "source": [
    "### Subset the data"
   ]
  },
  {
   "cell_type": "code",
   "execution_count": 8,
   "metadata": {
    "vscode": {
     "languageId": "r"
    }
   },
   "outputs": [],
   "source": [
    "counts_subset <- count_matrix[intestine_idx, ]\n",
    "obs_subset <- obs[intestine_idx, ]"
   ]
  },
  {
   "attachments": {},
   "cell_type": "markdown",
   "metadata": {},
   "source": [
    "## Identify the markers\n",
    "\n",
    "This is done using the `scoreMarkers` function, which by default returns AUC values for each marker gene per cluster, which will be used by SPOTlight later."
   ]
  },
  {
   "cell_type": "code",
   "execution_count": 10,
   "metadata": {
    "vscode": {
     "languageId": "r"
    }
   },
   "outputs": [],
   "source": [
    "markers <- scoreMarkers(t(counts_subset), obs_subset$category)"
   ]
  },
  {
   "attachments": {},
   "cell_type": "markdown",
   "metadata": {},
   "source": [
    "Next, the markers are all put into a dataframe. At this stage, optionally, one can filter for only genes that have an AUC value above some threshold. Here it is commented out as later, we use the top 50 markers for each cell type."
   ]
  },
  {
   "cell_type": "code",
   "execution_count": 11,
   "metadata": {
    "vscode": {
     "languageId": "r"
    }
   },
   "outputs": [],
   "source": [
    "mgs_fil <- lapply(names(markers), function(i) {\n",
    "    x <- markers[[i]]\n",
    "    # Filter and keep relevant marker genes, those with AUC > 0.8\n",
    "    # x <- x[x$mean.AUC > 0.8, ]\n",
    "    # Sort the genes from highest to lowest weight\n",
    "    x <- x[order(x$mean.AUC, decreasing = TRUE), ]\n",
    "    # Add gene and cluster id to the dataframe\n",
    "    x$gene <- rownames(x)\n",
    "    x$cluster <- i\n",
    "    data.frame(x)\n",
    "})\n",
    "mgs_df <- do.call(rbind, mgs_fil)"
   ]
  },
  {
   "attachments": {},
   "cell_type": "markdown",
   "metadata": {},
   "source": [
    "## Identify the Highly Variable Genes (HVGs)\n",
    "\n",
    "The number of HVGs chosen does not greatly affect model performance, but the authors recommend 3000."
   ]
  },
  {
   "cell_type": "code",
   "execution_count": 12,
   "metadata": {
    "vscode": {
     "languageId": "r"
    }
   },
   "outputs": [],
   "source": [
    "dec <- modelGeneVar(t(counts_subset))\n",
    "hvg <- getTopHVGs(dec, n = 2000)"
   ]
  },
  {
   "attachments": {},
   "cell_type": "markdown",
   "metadata": {},
   "source": [
    "## Downsample the cells\n",
    "\n",
    "Here, up to 100 cells are sampled from each cell type. This reduces the computational load at the deconvolution step.\n",
    "Here, we also extract a vector (`groups_to_use`) that contains the cell type for each cell in the downsampled dataset."
   ]
  },
  {
   "cell_type": "code",
   "execution_count": 14,
   "metadata": {
    "vscode": {
     "languageId": "r"
    }
   },
   "outputs": [],
   "source": [
    "idx <- split(seq(nrow(counts_subset)), obs_subset$category)\n",
    "\n",
    "n_cells <- 100\n",
    "cs_keep <- lapply(idx, function(i) {\n",
    "    n <- length(i)\n",
    "    if (n < n_cells)\n",
    "        n_cells <- n\n",
    "    sample(i, n_cells)\n",
    "})\n",
    "\n",
    "new_counts <- counts_subset[unname(unlist(cs_keep)), ]\n",
    "new_obs <- obs_subset[unname(unlist(cs_keep)), ]\n",
    "groups_to_use <- new_obs$category"
   ]
  },
  {
   "attachments": {},
   "cell_type": "markdown",
   "metadata": {},
   "source": [
    "## Convert the processed count matrix\n",
    "\n",
    "The count matrix, when extracted from AnnData object, is by default a `dgRMatrix` object in R. However, SPOTlight requires a `dgCMatrix` as an input, so it is converted here. The matrix is also transposed, since SPOTlight expects a count matrix that resembles one found in a `SingleCellExperiment` object, where the rows are genes and columns are individual cells."
   ]
  },
  {
   "cell_type": "code",
   "execution_count": 16,
   "metadata": {
    "vscode": {
     "languageId": "r"
    }
   },
   "outputs": [],
   "source": [
    "counts_final <- as(t(new_counts), \"CsparseMatrix\")"
   ]
  },
  {
   "attachments": {},
   "cell_type": "markdown",
   "metadata": {},
   "source": [
    "## Run Deconvolution\n",
    "\n",
    "Here, `weight_id` refers to which column of the marker genes dataframe contains the weights of the marker genes (in this case, `mean.AUC`). `group_id` refers to which column contains the cell type, and `gene_id` to which column contains the gene names.\n",
    "\n",
    "`n_top` refers to whether we would like to choose the top `n` marker genes from each cell type (as opposed to selecting those marker genes that pass a threshold). By default, it is `NULL` and so uses the entire marker genes dataframe, but if `n_top` is passed to the function as a value, it will select them from the dataframe."
   ]
  },
  {
   "cell_type": "code",
   "execution_count": null,
   "metadata": {
    "vscode": {
     "languageId": "r"
    }
   },
   "outputs": [],
   "source": [
    "res <- SPOTlight(\n",
    "    x = counts_final,\n",
    "    y = spe,\n",
    "    groups = groups_to_use,\n",
    "    mgs = mgs_df,\n",
    "    n_top = 50,\n",
    "    scale = TRUE,\n",
    "    hvg = hvg,\n",
    "    weight_id = \"mean.AUC\",\n",
    "    group_id = \"cluster\",\n",
    "    gene_id = \"gene\",\n",
    "    verbose = TRUE)"
   ]
  },
  {
   "attachments": {},
   "cell_type": "markdown",
   "metadata": {},
   "source": [
    "## Extract the final deconvolution results\n",
    "\n",
    "`mat` is a matrix that contains predicted proportions of cell types in each spot on the spatial dataset.\n",
    "`mod` contains details of the final NMF model that was trained."
   ]
  },
  {
   "cell_type": "code",
   "execution_count": 19,
   "metadata": {
    "vscode": {
     "languageId": "r"
    }
   },
   "outputs": [],
   "source": [
    "mat <- res$mat\n",
    "mod <- res$NMF"
   ]
  },
  {
   "attachments": {},
   "cell_type": "markdown",
   "metadata": {},
   "source": [
    "## Examine Topic Mapping\n",
    "\n",
    "With the below plot, the mapping of topics to unique cell types can be examined. Some cell types may be mapped more poorly than others."
   ]
  },
  {
   "cell_type": "code",
   "execution_count": 21,
   "metadata": {
    "vscode": {
     "languageId": "r"
    }
   },
   "outputs": [],
   "source": [
    "plotTopicProfiles(\n",
    "    x = mod,\n",
    "    y = groups_to_use,\n",
    "    facet = FALSE,\n",
    "    min_prop = 0.01,\n",
    "    ncol = 1) +\n",
    "    theme(aspect.ratio = 1)"
   ]
  },
  {
   "attachments": {},
   "cell_type": "markdown",
   "metadata": {},
   "source": [
    "## Correlation matrix between cell type proportions in spots"
   ]
  },
  {
   "cell_type": "code",
   "execution_count": 23,
   "metadata": {
    "vscode": {
     "languageId": "r"
    }
   },
   "outputs": [],
   "source": [
    "plotCorrelationMatrix(mat)"
   ]
  },
  {
   "attachments": {},
   "cell_type": "markdown",
   "metadata": {},
   "source": [
    "## Plot interactions between cell types as a network graph"
   ]
  },
  {
   "cell_type": "code",
   "execution_count": null,
   "metadata": {
    "vscode": {
     "languageId": "r"
    }
   },
   "outputs": [],
   "source": [
    "network_interaction <- plotInteractions(mat, \"network\")"
   ]
  },
  {
   "attachments": {},
   "cell_type": "markdown",
   "metadata": {},
   "source": [
    "## Prepare a colour palette to plot the spatial scatterpie"
   ]
  },
  {
   "cell_type": "code",
   "execution_count": null,
   "metadata": {
    "vscode": {
     "languageId": "r"
    }
   },
   "outputs": [],
   "source": [
    "ct <- colnames(mat)\n",
    "\n",
    "mat[mat < 0.1] <- 0\n",
    "\n",
    "pal <- colorRampPalette(paletteMartin)(length(ct))\n",
    "names(pal) <- ct\n",
    "#swatch(pal) (if you want to check the palette first)"
   ]
  },
  {
   "attachments": {},
   "cell_type": "markdown",
   "metadata": {},
   "source": [
    "## Plot the spatial scatterpie"
   ]
  },
  {
   "cell_type": "code",
   "execution_count": 29,
   "metadata": {
    "vscode": {
     "languageId": "r"
    }
   },
   "outputs": [],
   "source": [
    "plotSpatialScatterpie(\n",
    "    x = spe,\n",
    "    y = mat,\n",
    "    cell_types = colnames(mat),\n",
    "    img = TRUE,\n",
    "    scatterpie_alpha = 1,\n",
    "    pie_scale = 0.4,\n",
    "    axis = \"h\",\n",
    "    degrees = 270) +\n",
    "    scale_fill_manual(\n",
    "        values = pal, \n",
    "        breaks = names(pal)\n",
    "        )"
   ]
  },
  {
   "attachments": {},
   "cell_type": "markdown",
   "metadata": {},
   "source": [
    "## Plot the residual sums of squares (RSS) for each spot"
   ]
  },
  {
   "cell_type": "code",
   "execution_count": 31,
   "metadata": {
    "vscode": {
     "languageId": "r"
    }
   },
   "outputs": [],
   "source": [
    "spe$res_ss <- res[[2]][colnames(spe)]\n",
    "xy <- spatialCoords(spe)\n",
    "spe$x <- xy[, 1]\n",
    "spe$y <- xy[, 2]\n",
    "ggcells(spe, aes(x, y, color = res_ss)) +\n",
    "    geom_point() +\n",
    "    scale_color_viridis_c() +\n",
    "    coord_fixed() +\n",
    "    theme_bw()"
   ]
  },
  {
   "attachments": {},
   "cell_type": "markdown",
   "metadata": {},
   "source": [
    "## Visualize the interactions between cell types in two types of interaction plots"
   ]
  },
  {
   "cell_type": "code",
   "execution_count": 43,
   "metadata": {
    "vscode": {
     "languageId": "r"
    }
   },
   "outputs": [],
   "source": [
    "interact_heatmap <- plotInteractions(mat, which = \"heatmap\", metric = \"prop\")\n",
    "interact_jaccard <- plotInteractions(mat, which = \"heatmap\", metric = \"jaccard\")"
   ]
  },
  {
   "attachments": {},
   "cell_type": "markdown",
   "metadata": {},
   "source": [
    "## Plot the proportions of one cell type across the spots\n",
    "\n",
    "This is a useful way to visualize cell type proportions of individual cell types at a time. This is useful to look at patterns of expression of some specific cell types across the tissue.\n",
    "It can also be useful to visualize them in this way to compare them with the results of other deconvolution softwares, which typically plot their results similarly."
   ]
  },
  {
   "cell_type": "code",
   "execution_count": 72,
   "metadata": {
    "vscode": {
     "languageId": "r"
    }
   },
   "outputs": [],
   "source": [
    "spe$celltype1 <- mat[, which(colnames(mat) == \"Cell type 1\")]\n",
    "spe$celltype2 <- mat[, which(colnames(mat) == \"Cell type 2\")]\n",
    "\n",
    "ggcells(spe, aes(y, x, color = celltype1)) +\n",
    "    geom_point(alpha = 1) +\n",
    "    scale_color_viridis_c(option = \"magma\", begin = 0, end = 1) +\n",
    "    coord_fixed() +\n",
    "    theme_bw() +\n",
    "    theme(panel.grid.major = element_blank())\n",
    "\n",
    "ggcells(spe, aes(y, x, color = celltype2)) +\n",
    "    geom_point(alpha = 1) +\n",
    "    scale_color_viridis_c(option = \"magma\", begin = 0, end = 1) +\n",
    "    coord_fixed() +\n",
    "    theme_bw() +\n",
    "    theme(panel.grid.major = element_blank())"
   ]
  },
  {
   "cell_type": "code",
   "execution_count": 2,
   "metadata": {
    "vscode": {
     "languageId": "r"
    }
   },
   "outputs": [
    {
     "data": {
      "text/plain": [
       "R version 4.3.2 (2023-10-31)\n",
       "Platform: x86_64-conda-linux-gnu (64-bit)\n",
       "Running under: Ubuntu 20.04.6 LTS\n",
       "\n",
       "Matrix products: default\n",
       "BLAS/LAPACK: /media/gambino/students_workdir/ibp/gautam/miniconda3/envs/r_kernel/lib/libopenblasp-r0.3.24.so;  LAPACK version 3.11.0\n",
       "\n",
       "locale:\n",
       " [1] LC_CTYPE=en_US.UTF-8       LC_NUMERIC=C              \n",
       " [3] LC_TIME=de_BE.UTF-8        LC_COLLATE=en_US.UTF-8    \n",
       " [5] LC_MONETARY=de_BE.UTF-8    LC_MESSAGES=en_US.UTF-8   \n",
       " [7] LC_PAPER=de_BE.UTF-8       LC_NAME=C                 \n",
       " [9] LC_ADDRESS=C               LC_TELEPHONE=C            \n",
       "[11] LC_MEASUREMENT=de_BE.UTF-8 LC_IDENTIFICATION=C       \n",
       "\n",
       "time zone: Europe/Brussels\n",
       "tzcode source: system (glibc)\n",
       "\n",
       "attached base packages:\n",
       "[1] stats4    stats     graphics  grDevices utils     datasets  methods  \n",
       "[8] base     \n",
       "\n",
       "other attached packages:\n",
       " [1] Polychrome_1.5.1            ggcorrplot_0.1.4.1         \n",
       " [3] Matrix_1.6-3                dplyr_1.1.4                \n",
       " [5] Seurat_5.0.1                SeuratObject_5.0.1         \n",
       " [7] sp_2.1-1                    zellkonverter_1.12.1       \n",
       " [9] scran_1.30.0                scater_1.30.1              \n",
       "[11] ggplot2_3.4.4               scuttle_1.12.0             \n",
       "[13] SpatialExperiment_1.12.0    SingleCellExperiment_1.24.0\n",
       "[15] SummarizedExperiment_1.32.0 GenomicRanges_1.54.1       \n",
       "[17] GenomeInfoDb_1.38.1         IRanges_2.36.0             \n",
       "[19] S4Vectors_0.40.1            MatrixGenerics_1.14.0      \n",
       "[21] matrixStats_1.1.0           anndata_0.7.5.6            \n",
       "[23] reticulate_1.34.0           rhdf5_2.46.0               \n",
       "[25] SPOTlight_1.6.3             Biobase_2.62.0             \n",
       "[27] BiocGenerics_0.48.1        \n",
       "\n",
       "loaded via a namespace (and not attached):\n",
       "  [1] RcppAnnoy_0.0.21          splines_4.3.2            \n",
       "  [3] later_1.3.1               pbdZMQ_0.3-10            \n",
       "  [5] bitops_1.0-7              filelock_1.0.2           \n",
       "  [7] tibble_3.2.1              polyclip_1.10-6          \n",
       "  [9] basilisk.utils_1.14.1     fastDummies_1.7.3        \n",
       " [11] lifecycle_1.0.4           edgeR_4.0.2              \n",
       " [13] doParallel_1.0.17         globals_0.16.2           \n",
       " [15] lattice_0.22-5            MASS_7.3-60              \n",
       " [17] magrittr_2.0.3            plotly_4.10.3            \n",
       " [19] limma_3.58.1              metapod_1.10.0           \n",
       " [21] httpuv_1.6.12             sctransform_0.4.1        \n",
       " [23] NMF_0.26                  spam_2.10-0              \n",
       " [25] spatstat.sparse_3.0-3     pbapply_1.7-2            \n",
       " [27] cowplot_1.1.1             RColorBrewer_1.1-3       \n",
       " [29] abind_1.4-5               zlibbioc_1.48.0          \n",
       " [31] Rtsne_0.16                purrr_1.0.2              \n",
       " [33] RCurl_1.98-1.13           GenomeInfoDbData_1.2.11  \n",
       " [35] ggrepel_0.9.4             irlba_2.3.5.1            \n",
       " [37] spatstat.utils_3.0-4      listenv_0.9.0            \n",
       " [39] goftest_1.2-3             RSpectra_0.16-1          \n",
       " [41] spatstat.random_3.2-1     dqrng_0.3.1              \n",
       " [43] fitdistrplus_1.1-11       parallelly_1.36.0        \n",
       " [45] DelayedMatrixStats_1.24.0 leiden_0.4.3.1           \n",
       " [47] codetools_0.2-19          DelayedArray_0.28.0      \n",
       " [49] tidyselect_1.2.0          ScaledMatrix_1.10.0      \n",
       " [51] viridis_0.6.4             spatstat.explore_3.2-5   \n",
       " [53] base64enc_0.1-3           jsonlite_1.8.7           \n",
       " [55] BiocNeighbors_1.20.0      ellipsis_0.3.2           \n",
       " [57] progressr_0.14.0          ggridges_0.5.4           \n",
       " [59] survival_3.5-7            iterators_1.0.14         \n",
       " [61] foreach_1.5.2             tools_4.3.2              \n",
       " [63] ica_1.0-3                 Rcpp_1.0.11              \n",
       " [65] glue_1.6.2                gridExtra_2.3            \n",
       " [67] SparseArray_1.2.2         IRdisplay_1.1            \n",
       " [69] withr_2.5.2               BiocManager_1.30.22      \n",
       " [71] fastmap_1.1.1             basilisk_1.14.1          \n",
       " [73] rhdf5filters_1.14.1       bluster_1.12.0           \n",
       " [75] fansi_1.0.5               digest_0.6.33            \n",
       " [77] rsvd_1.0.5                R6_2.5.1                 \n",
       " [79] mime_0.12                 colorspace_2.1-0         \n",
       " [81] scattermore_1.2           tensor_1.5               \n",
       " [83] spatstat.data_3.0-3       tidyr_1.3.0              \n",
       " [85] utf8_1.2.4                generics_0.1.3           \n",
       " [87] data.table_1.14.8         htmlwidgets_1.6.3        \n",
       " [89] httr_1.4.7                S4Arrays_1.2.0           \n",
       " [91] scatterplot3d_0.3-44      uwot_0.1.16              \n",
       " [93] pkgconfig_2.0.3           gtable_0.3.4             \n",
       " [95] registry_0.5-1            lmtest_0.9-40            \n",
       " [97] XVector_0.42.0            htmltools_0.5.7          \n",
       " [99] dotCall64_1.1-0           scales_1.2.1             \n",
       "[101] png_0.1-8                 reshape2_1.4.4           \n",
       "[103] rjson_0.2.21              uuid_1.1-1               \n",
       "[105] nlme_3.1-163              repr_1.1.6               \n",
       "[107] zoo_1.8-12                stringr_1.5.1            \n",
       "[109] KernSmooth_2.23-22        parallel_4.3.2           \n",
       "[111] miniUI_0.1.1.1            vipor_0.4.5              \n",
       "[113] pillar_1.9.0              grid_4.3.2               \n",
       "[115] vctrs_0.6.4               RANN_2.6.1               \n",
       "[117] promises_1.2.1            BiocSingular_1.18.0      \n",
       "[119] beachmat_2.18.0           xtable_1.8-4             \n",
       "[121] cluster_2.1.4             beeswarm_0.4.0           \n",
       "[123] evaluate_0.23             magick_2.8.1             \n",
       "[125] cli_3.6.1                 locfit_1.5-9.8           \n",
       "[127] compiler_4.3.2            rlang_1.1.2              \n",
       "[129] crayon_1.5.2              rngtools_1.5.2           \n",
       "[131] future.apply_1.11.0       plyr_1.8.9               \n",
       "[133] ggbeeswarm_0.7.2          stringi_1.8.2            \n",
       "[135] deldir_2.0-2              viridisLite_0.4.2        \n",
       "[137] gridBase_0.4-7            BiocParallel_1.36.0      \n",
       "[139] nnls_1.5                  assertthat_0.2.1         \n",
       "[141] munsell_0.5.0             lazyeval_0.2.2           \n",
       "[143] spatstat.geom_3.2-7       dir.expiry_1.10.0        \n",
       "[145] IRkernel_1.3.2            RcppHNSW_0.5.0           \n",
       "[147] patchwork_1.1.3           sparseMatrixStats_1.14.0 \n",
       "[149] future_1.33.0             Rhdf5lib_1.24.0          \n",
       "[151] statmod_1.5.0             shiny_1.8.0              \n",
       "[153] ROCR_1.0-11               igraph_1.5.1             "
      ]
     },
     "metadata": {},
     "output_type": "display_data"
    }
   ],
   "source": [
    "sessionInfo()"
   ]
  },
  {
   "cell_type": "code",
   "execution_count": null,
   "metadata": {
    "vscode": {
     "languageId": "r"
    }
   },
   "outputs": [],
   "source": []
  }
 ],
 "metadata": {
  "kernelspec": {
   "display_name": "IBP R",
   "language": "R",
   "name": "r_kernel"
  },
  "language_info": {
   "codemirror_mode": "r",
   "file_extension": ".r",
   "mimetype": "text/x-r-source",
   "name": "R",
   "pygments_lexer": "r",
   "version": "4.3.2"
  },
  "orig_nbformat": 4
 },
 "nbformat": 4,
 "nbformat_minor": 2
}
