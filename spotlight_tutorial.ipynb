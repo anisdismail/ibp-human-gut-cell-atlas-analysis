{
 "cells": [
  {
   "attachments": {},
   "cell_type": "markdown",
   "metadata": {},
   "source": [
    "# SPOTlight pipeline\n",
    "\n",
    "The link to the tutorial from which this notebook is adapted can be found [here](https://marcelosua.github.io/SPOTlight/articles/SPOTlight_kidney.html#workflow). Certain changes have been made to adapt the different object types that this notebook is dealing with."
   ]
  },
  {
   "attachments": {},
   "cell_type": "markdown",
   "metadata": {},
   "source": [
    "## Load the required libraries\n",
    "\n",
    "`reticulate` must be installed on the conda environment that contains the R kernel.\n",
    "The next step sets up `reticulate` to use the 'right' python. Following this, `reticulate` "
   ]
  },
  {
   "cell_type": "code",
   "execution_count": null,
   "metadata": {
    "vscode": {
     "languageId": "r"
    }
   },
   "outputs": [],
   "source": [
    "library(SPOTlight)\n",
    "library(rhdf5)\n",
    "Sys.setenv(RETICULATE_PYTHON = \"/media/gambino/students_workdir/ibp/gautam/miniconda3/envs/r_kernel/bin/python\")\n",
    "library(reticulate)\n",
    "use_condaenv(condaenv = \"r_kernel\", conda  = \"/media/gambino/students_workdir/ibp/gautam/miniconda3/bin/conda\")\n",
    "library(anndata)\n",
    "library(SpatialExperiment)\n",
    "library(SingleCellExperiment)\n",
    "library(scater)\n",
    "library(scran)\n",
    "library(zellkonverter)\n",
    "library(Seurat)\n",
    "library(dplyr)\n",
    "library(Matrix)\n",
    "library(ggcorrplot)\n",
    "library(Polychrome)\n",
    "\n",
    "spatial_data_path <- \"path/to/spatial_data/sample/outs\"\n",
    "spatial_sample_name <- \"sample\"\n",
    "scRNAseq_data_path <- \"path/to/scRNAseq_data\""
   ]
  },
  {
   "attachments": {},
   "cell_type": "markdown",
   "metadata": {},
   "source": [
    "## Read in the Visium file"
   ]
  },
  {
   "cell_type": "code",
   "execution_count": 2,
   "metadata": {
    "vscode": {
     "languageId": "r"
    }
   },
   "outputs": [],
   "source": [
    "spe <- read10xVisium(\n",
    "  samples = spatial_data_path,\n",
    "  sample_id = sample,\n",
    "  type = \"HDF5\",\n",
    "  data = \"filtered\",\n",
    "  images = \"hires\",\n",
    "  load = FALSE\n",
    ")"
   ]
  },
  {
   "attachments": {},
   "cell_type": "markdown",
   "metadata": {},
   "source": [
    "## Change the row names of the Visium count matrix to refer to the genes' names rather than their Ensemble IDs"
   ]
  },
  {
   "cell_type": "code",
   "execution_count": 3,
   "metadata": {
    "vscode": {
     "languageId": "r"
    }
   },
   "outputs": [],
   "source": [
    "rownames(spe) <- rowData(spe)$symbol"
   ]
  },
  {
   "attachments": {},
   "cell_type": "markdown",
   "metadata": {},
   "source": [
    "## Read the scRNA-seq data"
   ]
  },
  {
   "cell_type": "code",
   "execution_count": 4,
   "metadata": {
    "vscode": {
     "languageId": "r"
    }
   },
   "outputs": [],
   "source": [
    "adata <- read_h5ad(scRNAseq_data_path)"
   ]
  },
  {
   "attachments": {},
   "cell_type": "markdown",
   "metadata": {},
   "source": [
    "## Subset the data appropriately\n",
    "\n",
    "SPOTlight was made to work very easily with the Bioconductor RNA-seq ecosystem (`SpatialExperiment`, `SingleCellExperiment` etc.) but unfortunately, with AnnData objects, any processing must be done directly on the appropriate data structure (Counts matrix or the observations table)."
   ]
  },
  {
   "cell_type": "code",
   "execution_count": 5,
   "metadata": {
    "vscode": {
     "languageId": "r"
    }
   },
   "outputs": [],
   "source": [
    "intestine_idx <- which((adata$obs)$Field1 == \"Your subset measure 1\" & (adata$obs)$Field2 == \"Your subset measure 2\")\n",
    "# Extract the count matrix from the AnnData object\n",
    "count_matrix <- adata$X\n",
    "# Extract the observations\n",
    "obs <- adata$obs"
   ]
  },
  {
   "attachments": {},
   "cell_type": "markdown",
   "metadata": {},
   "source": [
    "### Subset the data"
   ]
  },
  {
   "cell_type": "code",
   "execution_count": 8,
   "metadata": {
    "vscode": {
     "languageId": "r"
    }
   },
   "outputs": [],
   "source": [
    "counts_subset <- count_matrix[intestine_idx, ]\n",
    "obs_subset <- obs[intestine_idx, ]"
   ]
  },
  {
   "attachments": {},
   "cell_type": "markdown",
   "metadata": {},
   "source": [
    "## Identify the markers\n",
    "\n",
    "This is done using the `scoreMarkers` function, which by default returns AUC values for each marker gene per cluster, which will be used by SPOTlight later."
   ]
  },
  {
   "cell_type": "code",
   "execution_count": 10,
   "metadata": {
    "vscode": {
     "languageId": "r"
    }
   },
   "outputs": [],
   "source": [
    "markers <- scoreMarkers(t(counts_subset), obs_subset$category)"
   ]
  },
  {
   "attachments": {},
   "cell_type": "markdown",
   "metadata": {},
   "source": [
    "Next, the markers are all put into a dataframe. At this stage, optionally, one can filter for only genes that have an AUC value above some threshold. Here it is commented out as later, we use the top 50 markers for each cell type."
   ]
  },
  {
   "cell_type": "code",
   "execution_count": 11,
   "metadata": {
    "vscode": {
     "languageId": "r"
    }
   },
   "outputs": [],
   "source": [
    "mgs_fil <- lapply(names(markers), function(i) {\n",
    "    x <- markers[[i]]\n",
    "    # Filter and keep relevant marker genes, those with AUC > 0.8\n",
    "    # x <- x[x$mean.AUC > 0.8, ]\n",
    "    # Sort the genes from highest to lowest weight\n",
    "    x <- x[order(x$mean.AUC, decreasing = TRUE), ]\n",
    "    # Add gene and cluster id to the dataframe\n",
    "    x$gene <- rownames(x)\n",
    "    x$cluster <- i\n",
    "    data.frame(x)\n",
    "})\n",
    "mgs_df <- do.call(rbind, mgs_fil)"
   ]
  },
  {
   "attachments": {},
   "cell_type": "markdown",
   "metadata": {},
   "source": [
    "## Identify the Highly Variable Genes (HVGs)\n",
    "\n",
    "The number of HVGs chosen does not greatly affect model performance, but the authors recommend 3000."
   ]
  },
  {
   "cell_type": "code",
   "execution_count": 12,
   "metadata": {
    "vscode": {
     "languageId": "r"
    }
   },
   "outputs": [],
   "source": [
    "dec <- modelGeneVar(t(counts_subset))\n",
    "hvg <- getTopHVGs(dec, n = 2000)"
   ]
  },
  {
   "attachments": {},
   "cell_type": "markdown",
   "metadata": {},
   "source": [
    "## Downsample the cells\n",
    "\n",
    "Here, up to 100 cells are sampled from each cell type. This reduces the computational load at the deconvolution step.\n",
    "Here, we also extract a vector (`groups_to_use`) that contains the cell type for each cell in the downsampled dataset."
   ]
  },
  {
   "cell_type": "code",
   "execution_count": 14,
   "metadata": {
    "vscode": {
     "languageId": "r"
    }
   },
   "outputs": [],
   "source": [
    "idx <- split(seq(nrow(counts_subset)), obs_subset$category)\n",
    "\n",
    "n_cells <- 100\n",
    "cs_keep <- lapply(idx, function(i) {\n",
    "    n <- length(i)\n",
    "    if (n < n_cells)\n",
    "        n_cells <- n\n",
    "    sample(i, n_cells)\n",
    "})\n",
    "\n",
    "new_counts <- counts_subset[unname(unlist(cs_keep)), ]\n",
    "new_obs <- obs_subset[unname(unlist(cs_keep)), ]\n",
    "groups_to_use <- new_obs$category"
   ]
  },
  {
   "attachments": {},
   "cell_type": "markdown",
   "metadata": {},
   "source": [
    "## Convert the processed count matrix\n",
    "\n",
    "The count matrix, when extracted from AnnData object, is by default a `dgRMatrix` object in R. However, SPOTlight requires a `dgCMatrix` as an input, so it is converted here. The matrix is also transposed, since SPOTlight expects a count matrix that resembles one found in a `SingleCellExperiment` object, where the rows are genes and columns are individual cells."
   ]
  },
  {
   "cell_type": "code",
   "execution_count": 16,
   "metadata": {
    "vscode": {
     "languageId": "r"
    }
   },
   "outputs": [],
   "source": [
    "counts_final <- as(t(new_counts), \"CsparseMatrix\")"
   ]
  },
  {
   "attachments": {},
   "cell_type": "markdown",
   "metadata": {},
   "source": [
    "## Run Deconvolution\n",
    "\n",
    "Here, `weight_id` refers to which column of the marker genes dataframe contains the weights of the marker genes (in this case, `mean.AUC`). `group_id` refers to which column contains the cell type, and `gene_id` to which column contains the gene names.\n",
    "\n",
    "`n_top` refers to whether we would like to choose the top `n` marker genes from each cell type (as opposed to selecting those marker genes that pass a threshold). By default, it is `NULL` and so uses the entire marker genes dataframe, but if `n_top` is passed to the function as a value, it will select them from the dataframe."
   ]
  },
  {
   "cell_type": "code",
   "execution_count": null,
   "metadata": {
    "vscode": {
     "languageId": "r"
    }
   },
   "outputs": [],
   "source": [
    "res <- SPOTlight(\n",
    "    x = counts_final,\n",
    "    y = spe,\n",
    "    groups = groups_to_use,\n",
    "    mgs = mgs_df,\n",
    "    n_top = 50,\n",
    "    scale = TRUE,\n",
    "    hvg = hvg,\n",
    "    weight_id = \"mean.AUC\",\n",
    "    group_id = \"cluster\",\n",
    "    gene_id = \"gene\",\n",
    "    verbose = TRUE)"
   ]
  },
  {
   "attachments": {},
   "cell_type": "markdown",
   "metadata": {},
   "source": [
    "## Extract the final deconvolution results\n",
    "\n",
    "`mat` is a matrix that contains predicted proportions of cell types in each spot on the spatial dataset.\n",
    "`mod` contains details of the final NMF model that was trained."
   ]
  },
  {
   "cell_type": "code",
   "execution_count": 19,
   "metadata": {
    "vscode": {
     "languageId": "r"
    }
   },
   "outputs": [],
   "source": [
    "mat <- res$mat\n",
    "mod <- res$NMF"
   ]
  },
  {
   "attachments": {},
   "cell_type": "markdown",
   "metadata": {},
   "source": [
    "## Examine Topic Mapping\n",
    "\n",
    "With the below plot, the mapping of topics to unique cell types can be examined. Some cell types may be mapped more poorly than others."
   ]
  },
  {
   "cell_type": "code",
   "execution_count": 21,
   "metadata": {
    "vscode": {
     "languageId": "r"
    }
   },
   "outputs": [],
   "source": [
    "plotTopicProfiles(\n",
    "    x = mod,\n",
    "    y = groups_to_use,\n",
    "    facet = FALSE,\n",
    "    min_prop = 0.01,\n",
    "    ncol = 1) +\n",
    "    theme(aspect.ratio = 1)"
   ]
  },
  {
   "attachments": {},
   "cell_type": "markdown",
   "metadata": {},
   "source": [
    "## Correlation matrix between cell type proportions in spots"
   ]
  },
  {
   "cell_type": "code",
   "execution_count": 23,
   "metadata": {
    "vscode": {
     "languageId": "r"
    }
   },
   "outputs": [],
   "source": [
    "plotCorrelationMatrix(mat)"
   ]
  },
  {
   "attachments": {},
   "cell_type": "markdown",
   "metadata": {},
   "source": [
    "## Plot interactions between cell types as a network graph"
   ]
  },
  {
   "cell_type": "code",
   "execution_count": null,
   "metadata": {
    "vscode": {
     "languageId": "r"
    }
   },
   "outputs": [],
   "source": [
    "network_interaction <- plotInteractions(mat, \"network\")"
   ]
  },
  {
   "attachments": {},
   "cell_type": "markdown",
   "metadata": {},
   "source": [
    "## Prepare a colour palette to plot the spatial scatterpie"
   ]
  },
  {
   "cell_type": "code",
   "execution_count": null,
   "metadata": {
    "vscode": {
     "languageId": "r"
    }
   },
   "outputs": [],
   "source": [
    "ct <- colnames(mat)\n",
    "\n",
    "mat[mat < 0.1] <- 0\n",
    "\n",
    "pal <- colorRampPalette(paletteMartin)(length(ct))\n",
    "names(pal) <- ct\n",
    "#swatch(pal) (if you want to check the palette first)"
   ]
  },
  {
   "attachments": {},
   "cell_type": "markdown",
   "metadata": {},
   "source": [
    "## Plot the spatial scatterpie"
   ]
  },
  {
   "cell_type": "code",
   "execution_count": 29,
   "metadata": {
    "vscode": {
     "languageId": "r"
    }
   },
   "outputs": [],
   "source": [
    "plotSpatialScatterpie(\n",
    "    x = spe,\n",
    "    y = mat,\n",
    "    cell_types = colnames(mat),\n",
    "    img = TRUE,\n",
    "    scatterpie_alpha = 1,\n",
    "    pie_scale = 0.4,\n",
    "    axis = \"h\",\n",
    "    degrees = 270) +\n",
    "    scale_fill_manual(\n",
    "        values = pal, \n",
    "        breaks = names(pal)\n",
    "        )"
   ]
  },
  {
   "attachments": {},
   "cell_type": "markdown",
   "metadata": {},
   "source": [
    "## Plot the residual sums of squares (RSS) for each spot"
   ]
  },
  {
   "cell_type": "code",
   "execution_count": 31,
   "metadata": {
    "vscode": {
     "languageId": "r"
    }
   },
   "outputs": [],
   "source": [
    "spe$res_ss <- res[[2]][colnames(spe)]\n",
    "xy <- spatialCoords(spe)\n",
    "spe$x <- xy[, 1]\n",
    "spe$y <- xy[, 2]\n",
    "ggcells(spe, aes(x, y, color = res_ss)) +\n",
    "    geom_point() +\n",
    "    scale_color_viridis_c() +\n",
    "    coord_fixed() +\n",
    "    theme_bw()"
   ]
  },
  {
   "attachments": {},
   "cell_type": "markdown",
   "metadata": {},
   "source": [
    "## Visualize the interactions between cell types in two types of interaction plots"
   ]
  },
  {
   "cell_type": "code",
   "execution_count": 43,
   "metadata": {
    "vscode": {
     "languageId": "r"
    }
   },
   "outputs": [],
   "source": [
    "interact_heatmap <- plotInteractions(mat, which = \"heatmap\", metric = \"prop\")\n",
    "interact_jaccard <- plotInteractions(mat, which = \"heatmap\", metric = \"jaccard\")"
   ]
  },
  {
   "attachments": {},
   "cell_type": "markdown",
   "metadata": {},
   "source": [
    "## Plot the proportions of one cell type across the spots\n",
    "\n",
    "This is a useful way to visualize cell type proportions of individual cell types at a time. This is useful to look at patterns of expression of some specific cell types across the tissue.\n",
    "It can also be useful to visualize them in this way to compare them with the results of other deconvolution softwares, which typically plot their results similarly."
   ]
  },
  {
   "cell_type": "code",
   "execution_count": 72,
   "metadata": {
    "vscode": {
     "languageId": "r"
    }
   },
   "outputs": [],
   "source": [
    "spe$celltype1 <- mat[, which(colnames(mat) == \"Cell type 1\")]\n",
    "spe$celltype2 <- mat[, which(colnames(mat) == \"Cell type 2\")]\n",
    "\n",
    "ggcells(spe, aes(y, x, color = celltype1)) +\n",
    "    geom_point(alpha = 1) +\n",
    "    scale_color_viridis_c(option = \"magma\", begin = 0, end = 1) +\n",
    "    coord_fixed() +\n",
    "    theme_bw() +\n",
    "    theme(panel.grid.major = element_blank())\n",
    "\n",
    "ggcells(spe, aes(y, x, color = celltype2)) +\n",
    "    geom_point(alpha = 1) +\n",
    "    scale_color_viridis_c(option = \"magma\", begin = 0, end = 1) +\n",
    "    coord_fixed() +\n",
    "    theme_bw() +\n",
    "    theme(panel.grid.major = element_blank())"
   ]
  }
 ],
 "metadata": {
  "kernelspec": {
   "display_name": "IBP R",
   "language": "R",
   "name": "r_kernel"
  },
  "language_info": {
   "codemirror_mode": "r",
   "file_extension": ".r",
   "mimetype": "text/x-r-source",
   "name": "R",
   "pygments_lexer": "r",
   "version": "4.3.2"
  },
  "orig_nbformat": 4
 },
 "nbformat": 4,
 "nbformat_minor": 2
}
