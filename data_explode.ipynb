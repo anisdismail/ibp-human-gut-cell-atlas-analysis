{
 "cells": [
  {
   "cell_type": "code",
   "execution_count": 14,
   "metadata": {},
   "outputs": [],
   "source": [
    "import warnings\n",
    "\n",
    "import pandas as pd\n",
    "\n",
    "warnings.filterwarnings(\"ignore\")\n",
    "warnings.simplefilter(\"ignore\")\n",
    "\n",
    "import scanpy as sc\n",
    "import numpy as np\n",
    "import anndata"
   ]
  },
  {
   "cell_type": "code",
   "execution_count": 15,
   "metadata": {},
   "outputs": [
    {
     "data": {
      "text/plain": [
       "AnnData object with n_obs × n_vars = 428469 × 30535\n",
       "    obs: 'Sample name', 'Diagnosis', 'Age', 'sample name', 'Region code', 'Fraction', 'Gender', 'Region', '10X', 'batch', 'n_genes', 'n_genes_by_counts', 'total_counts', 'total_counts_mt', 'pct_counts_mt', 'doublet_scores', 'predicted_doublets', 'category', 'Age_group', 'Integrated_05'\n",
       "    var: 'gene_ids', 'mt', 'n_cells_by_counts', 'mean_counts', 'pct_dropout_by_counts', 'total_counts', 'n_cells'\n",
       "    uns: 'Integrated_colors', 'category2_colors', 'category_colors', \"dendrogram_['Integrated']\", \"dendrogram_['Integrated_05']\", 'hvg', 'neighbors', 'pca', 'umap'\n",
       "    obsm: 'X_pca', 'X_umap'"
      ]
     },
     "execution_count": 15,
     "metadata": {},
     "output_type": "execute_result"
    }
   ],
   "source": [
    "# Read in Anndata Object\n",
    "adata = anndata.read(\"/media/gambino/students_workdir/ibp/Full_obj_log_counts_soupx_v2.h5ad\")\n",
    "adata"
   ]
  },
  {
   "cell_type": "code",
   "execution_count": 16,
   "metadata": {},
   "outputs": [
    {
     "name": "stdout",
     "output_type": "stream",
     "text": [
      "['MMP9+ Inflammatory macrophage', 'cDC2', 'Mast cell', 'cDC1', 'LYVE1+ Macrophage', ..., 'Lymphoid DC', 'pDC', 'CLC+ Mast cell', 'MPO+ mono-neutrophil', 'Megakaryocyte']\n",
      "Length: 12\n",
      "Categories (12, object): ['CLC+ Mast cell', 'LYVE1+ Macrophage', 'Lymphoid DC', 'MMP9+ Inflammatory macrophage', ..., 'Monocytes', 'cDC1', 'cDC2', 'pDC']\n",
      "['Adult Glia', 'Branch B1 (eMN)', 'Differentiating glia', 'Neuroblast', 'Glia 3 (BCAN+)', ..., 'Branch A1 (iMN)', 'ENCC/glia Progenitor', 'Branch B2 (eMN)', 'Branch A2 (IPAN/IN)', 'Branch A3 (IPAN/IN)']\n",
      "Length: 16\n",
      "Categories (16, object): ['Adult Glia', 'Branch A1 (iMN)', 'Branch A2 (IPAN/IN)', 'Branch A3 (IPAN/IN)', ..., 'Glia 3 (BCAN+)', 'Neuroblast', 'cycling ENCC/glia', 'cycling neuroblast']\n"
     ]
    }
   ],
   "source": [
    "myeloid_cellList=adata[adata.obs[\"category\"]==\"Myeloid\"].obs[\"Integrated_05\"].unique()\n",
    "neuronal_cellList=adata[adata.obs[\"category\"]==\"Neuronal\"].obs[\"Integrated_05\"].unique()\n",
    "print(myeloid_cellList)\n",
    "print(neuronal_cellList)"
   ]
  },
  {
   "cell_type": "code",
   "execution_count": 17,
   "metadata": {},
   "outputs": [
    {
     "data": {
      "text/plain": [
       "['Myeloid']\n",
       "Categories (1, object): ['Myeloid']"
      ]
     },
     "execution_count": 17,
     "metadata": {},
     "output_type": "execute_result"
    }
   ],
   "source": [
    "adata[adata.obs[\"Integrated_05\"].isin(myeloid_cellList)].obs[\"category\"].unique()"
   ]
  },
  {
   "cell_type": "code",
   "execution_count": 18,
   "metadata": {},
   "outputs": [
    {
     "data": {
      "text/plain": [
       "['Neuronal']\n",
       "Categories (1, object): ['Neuronal']"
      ]
     },
     "execution_count": 18,
     "metadata": {},
     "output_type": "execute_result"
    }
   ],
   "source": [
    "adata[adata.obs[\"Integrated_05\"].isin(neuronal_cellList)].obs[\"category\"].unique()"
   ]
  },
  {
   "cell_type": "code",
   "execution_count": 19,
   "metadata": {},
   "outputs": [
    {
     "data": {
      "text/plain": [
       "array(['B cells', 'T cells', 'Epithelial', 'Mesenchymal', 'Plasma cells',\n",
       "       'MMP9+ Inflammatory macrophage', 'cDC2', 'Endothelial',\n",
       "       'Mast cell', 'cDC1', 'LYVE1+ Macrophage', 'Monocytes',\n",
       "       'Adult Glia', 'Macrophages', 'Lymphoid DC', 'pDC',\n",
       "       'CLC+ Mast cell', 'Branch B1 (eMN)', 'Differentiating glia',\n",
       "       'Neuroblast', 'Glia 3 (BCAN+)', 'MPO+ mono-neutrophil',\n",
       "       'Glia 2 (ELN+)', 'Glia 1 (DHH+)', 'Red blood cells',\n",
       "       'cycling neuroblast', 'cycling ENCC/glia', 'Branch B3 (IPAN)',\n",
       "       'Branch A4 (IN)', 'Branch A1 (iMN)', 'ENCC/glia Progenitor',\n",
       "       'Megakaryocyte', 'Branch B2 (eMN)', 'Branch A2 (IPAN/IN)',\n",
       "       'Branch A3 (IPAN/IN)'], dtype=object)"
      ]
     },
     "execution_count": 19,
     "metadata": {},
     "output_type": "execute_result"
    }
   ],
   "source": [
    "adata.obs[\"category\"] = np.where(adata.obs[\"category\"]==\"Myeloid\", adata.obs[\"Integrated_05\"],adata.obs[\"category\"])\n",
    "adata.obs[\"category\"] = np.where(adata.obs[\"category\"]==\"Neuronal\", adata.obs[\"Integrated_05\"],adata.obs[\"category\"])\n",
    "adata.obs[\"category\"].unique()"
   ]
  },
  {
   "cell_type": "code",
   "execution_count": 20,
   "metadata": {},
   "outputs": [
    {
     "data": {
      "text/plain": [
       "array(['B cells', 'T cells', 'Epithelial', 'Mesenchymal', 'Plasma cells',\n",
       "       'MMP9+ Inflammatory macrophage', 'cDC2', 'Endothelial',\n",
       "       'Mast cell', 'cDC1', 'LYVE1+ Macrophage', 'Monocytes',\n",
       "       'Adult Glia', 'Macrophages', 'Lymphoid DC', 'pDC',\n",
       "       'CLC+ Mast cell', 'Branch Neurons', 'Differentiating glia',\n",
       "       'Neuroblast', 'Glia 3 (BCAN+)', 'MPO+ mono-neutrophil',\n",
       "       'Glia 2 (ELN+)', 'Glia 1 (DHH+)', 'Red blood cells',\n",
       "       'cycling neuroblast', 'cycling ENCC/glia', 'ENCC/glia Progenitor',\n",
       "       'Megakaryocyte'], dtype=object)"
      ]
     },
     "execution_count": 20,
     "metadata": {},
     "output_type": "execute_result"
    }
   ],
   "source": [
    "adata.obs[\"category\"] = np.where(adata.obs[\"category\"]==\"Branch A1 (iMN)\", \"Branch Neurons\",adata.obs[\"category\"])\n",
    "adata.obs[\"category\"] = np.where(adata.obs[\"category\"]==\"Branch A4 (IN)\", \"Branch Neurons\",adata.obs[\"category\"])\n",
    "adata.obs[\"category\"] = np.where(adata.obs[\"category\"]==\"Branch B3 (IPAN)\", \"Branch Neurons\",adata.obs[\"category\"])\n",
    "adata.obs[\"category\"] = np.where(adata.obs[\"category\"]==\"Branch B2 (eMN)\", \"Branch Neurons\",adata.obs[\"category\"])\n",
    "adata.obs[\"category\"] = np.where(adata.obs[\"category\"]==\"Branch A2 (IPAN/IN)\", \"Branch Neurons\",adata.obs[\"category\"])\n",
    "adata.obs[\"category\"] = np.where(adata.obs[\"category\"]==\"Branch A3 (IPAN/IN)\", \"Branch Neurons\",adata.obs[\"category\"])\n",
    "adata.obs[\"category\"] = np.where(adata.obs[\"category\"]==\"Branch B1 (eMN)\", \"Branch Neurons\",adata.obs[\"category\"])\n",
    "\n",
    "adata.obs[\"category\"].unique()"
   ]
  },
  {
   "cell_type": "code",
   "execution_count": 25,
   "metadata": {},
   "outputs": [
    {
     "data": {
      "text/plain": [
       "array(['B cells', 'T cells', 'Epithelial', 'Mesenchymal', 'Plasma cells',\n",
       "       'MMP9+ Inflammatory macrophage', 'Dendritic', 'Endothelial',\n",
       "       'Mast cell', 'LYVE1+ Macrophage', 'Monocytes', 'Glia',\n",
       "       'Macrophages', 'Branch Neurons', 'Neuroblast',\n",
       "       'MPO+ mono-neutrophil', 'Red blood cells', 'Megakaryocyte'],\n",
       "      dtype=object)"
      ]
     },
     "execution_count": 25,
     "metadata": {},
     "output_type": "execute_result"
    }
   ],
   "source": [
    "adata.obs[\"category\"] = np.where(adata.obs[\"category\"]==\"Adult Glia\", \"Glia\",adata.obs[\"category\"])\n",
    "adata.obs[\"category\"] = np.where(adata.obs[\"category\"]==\"Differentiating glia\", \"Glia\",adata.obs[\"category\"])\n",
    "adata.obs[\"category\"] = np.where(adata.obs[\"category\"]==\"Glia 3 (BCAN+)\", \"Glia\",adata.obs[\"category\"])\n",
    "adata.obs[\"category\"] = np.where(adata.obs[\"category\"]==\"Glia 2 (ELN+)\", \"Glia\",adata.obs[\"category\"])\n",
    "adata.obs[\"category\"] = np.where(adata.obs[\"category\"]==\"Glia 1 (DHH+)\", \"Glia\",adata.obs[\"category\"])\n",
    "adata.obs[\"category\"] = np.where(adata.obs[\"category\"]==\"Glia 1 (DHH+)\", \"Glia\",adata.obs[\"category\"])\n",
    "adata.obs[\"category\"] = np.where(adata.obs[\"category\"]==\"cycling ENCC/glia\", \"Glia\",adata.obs[\"category\"])\n",
    "\n",
    "adata.obs[\"category\"].unique()"
   ]
  },
  {
   "cell_type": "code",
   "execution_count": 22,
   "metadata": {},
   "outputs": [
    {
     "data": {
      "text/plain": [
       "array(['B cells', 'T cells', 'Epithelial', 'Mesenchymal', 'Plasma cells',\n",
       "       'MMP9+ Inflammatory macrophage', 'cDC2', 'Endothelial',\n",
       "       'Mast cell', 'cDC1', 'LYVE1+ Macrophage', 'Monocytes', 'Glia',\n",
       "       'Macrophages', 'Lymphoid DC', 'pDC', 'CLC+ Mast cell',\n",
       "       'Branch Neurons', 'Neuroblast', 'MPO+ mono-neutrophil',\n",
       "       'Red blood cells', 'cycling ENCC/glia', 'Megakaryocyte'],\n",
       "      dtype=object)"
      ]
     },
     "execution_count": 22,
     "metadata": {},
     "output_type": "execute_result"
    }
   ],
   "source": [
    "adata.obs[\"category\"] = np.where(adata.obs[\"category\"]==\"cycling neuroblast\", \"Neuroblast\",adata.obs[\"category\"])\n",
    "adata.obs[\"category\"] = np.where(adata.obs[\"category\"]==\"ENCC/glia Progenitor\", \"Neuroblast\",adata.obs[\"category\"])\n",
    "adata.obs[\"category\"].unique()"
   ]
  },
  {
   "cell_type": "code",
   "execution_count": 23,
   "metadata": {},
   "outputs": [
    {
     "data": {
      "text/plain": [
       "array(['B cells', 'T cells', 'Epithelial', 'Mesenchymal', 'Plasma cells',\n",
       "       'MMP9+ Inflammatory macrophage', 'Dendritic', 'Endothelial',\n",
       "       'Mast cell', 'LYVE1+ Macrophage', 'Monocytes', 'Glia',\n",
       "       'Macrophages', 'CLC+ Mast cell', 'Branch Neurons', 'Neuroblast',\n",
       "       'MPO+ mono-neutrophil', 'Red blood cells', 'cycling ENCC/glia',\n",
       "       'Megakaryocyte'], dtype=object)"
      ]
     },
     "execution_count": 23,
     "metadata": {},
     "output_type": "execute_result"
    }
   ],
   "source": [
    "adata.obs[\"category\"] = np.where(adata.obs[\"category\"]==\"cDC2\", \"Dendritic\",adata.obs[\"category\"])\n",
    "adata.obs[\"category\"] = np.where(adata.obs[\"category\"]==\"cDC1\", \"Dendritic\",adata.obs[\"category\"])\n",
    "adata.obs[\"category\"] = np.where(adata.obs[\"category\"]==\"Lymphoid DC\", \"Dendritic\",adata.obs[\"category\"])\n",
    "adata.obs[\"category\"] = np.where(adata.obs[\"category\"]==\"pDC\", \"Dendritic\",adata.obs[\"category\"])\n",
    "adata.obs[\"category\"].unique()"
   ]
  },
  {
   "cell_type": "code",
   "execution_count": 26,
   "metadata": {},
   "outputs": [
    {
     "data": {
      "text/plain": [
       "array(['B cells', 'T cells', 'Epithelial', 'Mesenchymal', 'Plasma cells',\n",
       "       'MMP9+ Inflammatory macrophage', 'Dendritic', 'Endothelial',\n",
       "       'Mast cell', 'LYVE1+ Macrophage', 'Monocytes', 'Glia',\n",
       "       'Macrophages', 'Branch Neurons', 'Neuroblast',\n",
       "       'MPO+ mono-neutrophil', 'Red blood cells', 'Megakaryocyte'],\n",
       "      dtype=object)"
      ]
     },
     "execution_count": 26,
     "metadata": {},
     "output_type": "execute_result"
    }
   ],
   "source": [
    "adata.obs[\"category\"] = np.where(adata.obs[\"category\"]==\"CLC+ Mast cell\", \"Mast cell\",adata.obs[\"category\"])\n",
    "adata.obs[\"category\"].unique()"
   ]
  },
  {
   "cell_type": "code",
   "execution_count": 27,
   "metadata": {},
   "outputs": [
    {
     "data": {
      "text/html": [
       "<div>\n",
       "<style scoped>\n",
       "    .dataframe tbody tr th:only-of-type {\n",
       "        vertical-align: middle;\n",
       "    }\n",
       "\n",
       "    .dataframe tbody tr th {\n",
       "        vertical-align: top;\n",
       "    }\n",
       "\n",
       "    .dataframe thead th {\n",
       "        text-align: right;\n",
       "    }\n",
       "</style>\n",
       "<table border=\"1\" class=\"dataframe\">\n",
       "  <thead>\n",
       "    <tr style=\"text-align: right;\">\n",
       "      <th></th>\n",
       "      <th>B cells</th>\n",
       "      <th>Branch Neurons</th>\n",
       "      <th>Dendritic</th>\n",
       "      <th>Endothelial</th>\n",
       "      <th>Epithelial</th>\n",
       "      <th>Glia</th>\n",
       "      <th>LYVE1+ Macrophage</th>\n",
       "      <th>MMP9+ Inflammatory macrophage</th>\n",
       "      <th>MPO+ mono-neutrophil</th>\n",
       "      <th>Macrophages</th>\n",
       "      <th>Mast cell</th>\n",
       "      <th>Megakaryocyte</th>\n",
       "      <th>Mesenchymal</th>\n",
       "      <th>Monocytes</th>\n",
       "      <th>Neuroblast</th>\n",
       "      <th>Plasma cells</th>\n",
       "      <th>Red blood cells</th>\n",
       "      <th>T cells</th>\n",
       "    </tr>\n",
       "  </thead>\n",
       "  <tbody>\n",
       "    <tr>\n",
       "      <th>0</th>\n",
       "      <td>CD74</td>\n",
       "      <td>TUBB2B</td>\n",
       "      <td>CD74</td>\n",
       "      <td>EGFL7</td>\n",
       "      <td>EPCAM</td>\n",
       "      <td>PLP1</td>\n",
       "      <td>C1QA</td>\n",
       "      <td>FTL</td>\n",
       "      <td>LYZ</td>\n",
       "      <td>CD74</td>\n",
       "      <td>CPA3</td>\n",
       "      <td>PF4</td>\n",
       "      <td>COL3A1</td>\n",
       "      <td>TYROBP</td>\n",
       "      <td>AP1S2</td>\n",
       "      <td>JCHAIN</td>\n",
       "      <td>HBG2</td>\n",
       "      <td>B2M</td>\n",
       "    </tr>\n",
       "    <tr>\n",
       "      <th>1</th>\n",
       "      <td>HLA-DRA</td>\n",
       "      <td>TUBA1A</td>\n",
       "      <td>HLA-DRA</td>\n",
       "      <td>CLDN5</td>\n",
       "      <td>PHGR1</td>\n",
       "      <td>VIM</td>\n",
       "      <td>C1QC</td>\n",
       "      <td>HLA-DRA</td>\n",
       "      <td>RETN</td>\n",
       "      <td>SAT1</td>\n",
       "      <td>TPSAB1</td>\n",
       "      <td>GP9</td>\n",
       "      <td>CALD1</td>\n",
       "      <td>FCER1G</td>\n",
       "      <td>ASCL1</td>\n",
       "      <td>IGHA1</td>\n",
       "      <td>HBA1</td>\n",
       "      <td>CD3E</td>\n",
       "    </tr>\n",
       "    <tr>\n",
       "      <th>2</th>\n",
       "      <td>CD37</td>\n",
       "      <td>MAP1B</td>\n",
       "      <td>HLA-DPA1</td>\n",
       "      <td>PECAM1</td>\n",
       "      <td>TSPAN8</td>\n",
       "      <td>S100B</td>\n",
       "      <td>TYROBP</td>\n",
       "      <td>CD74</td>\n",
       "      <td>S100A9</td>\n",
       "      <td>C1QC</td>\n",
       "      <td>TPSB2</td>\n",
       "      <td>PPBP</td>\n",
       "      <td>COL1A2</td>\n",
       "      <td>LYZ</td>\n",
       "      <td>HNRNPA1</td>\n",
       "      <td>IGKC</td>\n",
       "      <td>HBA2</td>\n",
       "      <td>CD3D</td>\n",
       "    </tr>\n",
       "    <tr>\n",
       "      <th>3</th>\n",
       "      <td>CD52</td>\n",
       "      <td>MLLT11</td>\n",
       "      <td>HLA-DRB1</td>\n",
       "      <td>CRIP2</td>\n",
       "      <td>KRT8</td>\n",
       "      <td>AP1S2</td>\n",
       "      <td>C1QB</td>\n",
       "      <td>C1QA</td>\n",
       "      <td>S100A4</td>\n",
       "      <td>C1QA</td>\n",
       "      <td>SRGN</td>\n",
       "      <td>RAP1B</td>\n",
       "      <td>COL1A1</td>\n",
       "      <td>SRGN</td>\n",
       "      <td>PLP1</td>\n",
       "      <td>IGHA2</td>\n",
       "      <td>HBG1</td>\n",
       "      <td>CD7</td>\n",
       "    </tr>\n",
       "    <tr>\n",
       "      <th>4</th>\n",
       "      <td>HLA-DPB1</td>\n",
       "      <td>ELAVL4</td>\n",
       "      <td>HLA-DPB1</td>\n",
       "      <td>RAMP2</td>\n",
       "      <td>ELF3</td>\n",
       "      <td>GPM6B</td>\n",
       "      <td>FTL</td>\n",
       "      <td>TYROBP</td>\n",
       "      <td>MNDA</td>\n",
       "      <td>HLA-DRB1</td>\n",
       "      <td>ANXA1</td>\n",
       "      <td>LIMS1</td>\n",
       "      <td>MFAP4</td>\n",
       "      <td>FTL</td>\n",
       "      <td>TUBA1A</td>\n",
       "      <td>MZB1</td>\n",
       "      <td>SLC25A37</td>\n",
       "      <td>PTPRC</td>\n",
       "    </tr>\n",
       "  </tbody>\n",
       "</table>\n",
       "</div>"
      ],
      "text/plain": [
       "    B cells Branch Neurons Dendritic Endothelial Epithelial   Glia  \\\n",
       "0      CD74         TUBB2B      CD74       EGFL7      EPCAM   PLP1   \n",
       "1   HLA-DRA         TUBA1A   HLA-DRA       CLDN5      PHGR1    VIM   \n",
       "2      CD37          MAP1B  HLA-DPA1      PECAM1     TSPAN8  S100B   \n",
       "3      CD52         MLLT11  HLA-DRB1       CRIP2       KRT8  AP1S2   \n",
       "4  HLA-DPB1         ELAVL4  HLA-DPB1       RAMP2       ELF3  GPM6B   \n",
       "\n",
       "  LYVE1+ Macrophage MMP9+ Inflammatory macrophage MPO+ mono-neutrophil  \\\n",
       "0              C1QA                           FTL                  LYZ   \n",
       "1              C1QC                       HLA-DRA                 RETN   \n",
       "2            TYROBP                          CD74               S100A9   \n",
       "3              C1QB                          C1QA               S100A4   \n",
       "4               FTL                        TYROBP                 MNDA   \n",
       "\n",
       "  Macrophages Mast cell Megakaryocyte Mesenchymal Monocytes Neuroblast  \\\n",
       "0        CD74      CPA3           PF4      COL3A1    TYROBP      AP1S2   \n",
       "1        SAT1    TPSAB1           GP9       CALD1    FCER1G      ASCL1   \n",
       "2        C1QC     TPSB2          PPBP      COL1A2       LYZ    HNRNPA1   \n",
       "3        C1QA      SRGN         RAP1B      COL1A1      SRGN       PLP1   \n",
       "4    HLA-DRB1     ANXA1         LIMS1       MFAP4       FTL     TUBA1A   \n",
       "\n",
       "  Plasma cells Red blood cells T cells  \n",
       "0       JCHAIN            HBG2     B2M  \n",
       "1        IGHA1            HBA1    CD3E  \n",
       "2         IGKC            HBA2    CD3D  \n",
       "3        IGHA2            HBG1     CD7  \n",
       "4         MZB1        SLC25A37   PTPRC  "
      ]
     },
     "execution_count": 27,
     "metadata": {},
     "output_type": "execute_result"
    }
   ],
   "source": [
    "sc.tl.rank_genes_groups(adata, 'category', method='wilcoxon')\n",
    "pd.DataFrame(adata.uns['rank_genes_groups']['names']).head(5)"
   ]
  },
  {
   "cell_type": "code",
   "execution_count": 28,
   "metadata": {},
   "outputs": [
    {
     "data": {
      "text/html": [
       "<div>\n",
       "<style scoped>\n",
       "    .dataframe tbody tr th:only-of-type {\n",
       "        vertical-align: middle;\n",
       "    }\n",
       "\n",
       "    .dataframe tbody tr th {\n",
       "        vertical-align: top;\n",
       "    }\n",
       "\n",
       "    .dataframe thead th {\n",
       "        text-align: right;\n",
       "    }\n",
       "</style>\n",
       "<table border=\"1\" class=\"dataframe\">\n",
       "  <thead>\n",
       "    <tr style=\"text-align: right;\">\n",
       "      <th></th>\n",
       "      <th>B cells</th>\n",
       "      <th>Branch Neurons</th>\n",
       "      <th>Dendritic</th>\n",
       "      <th>Endothelial</th>\n",
       "      <th>Epithelial</th>\n",
       "      <th>Glia</th>\n",
       "      <th>LYVE1+ Macrophage</th>\n",
       "      <th>MMP9+ Inflammatory macrophage</th>\n",
       "      <th>MPO+ mono-neutrophil</th>\n",
       "      <th>Macrophages</th>\n",
       "      <th>Mast cell</th>\n",
       "      <th>Megakaryocyte</th>\n",
       "      <th>Mesenchymal</th>\n",
       "      <th>Monocytes</th>\n",
       "      <th>Neuroblast</th>\n",
       "      <th>Plasma cells</th>\n",
       "      <th>Red blood cells</th>\n",
       "      <th>T cells</th>\n",
       "    </tr>\n",
       "  </thead>\n",
       "  <tbody>\n",
       "    <tr>\n",
       "      <th>0</th>\n",
       "      <td>229.839340</td>\n",
       "      <td>119.345337</td>\n",
       "      <td>86.717667</td>\n",
       "      <td>183.869461</td>\n",
       "      <td>446.490173</td>\n",
       "      <td>128.264130</td>\n",
       "      <td>83.508987</td>\n",
       "      <td>30.559776</td>\n",
       "      <td>18.672417</td>\n",
       "      <td>103.742905</td>\n",
       "      <td>39.729187</td>\n",
       "      <td>13.297316</td>\n",
       "      <td>512.558655</td>\n",
       "      <td>57.923923</td>\n",
       "      <td>102.069977</td>\n",
       "      <td>226.343552</td>\n",
       "      <td>64.169731</td>\n",
       "      <td>266.130463</td>\n",
       "    </tr>\n",
       "    <tr>\n",
       "      <th>1</th>\n",
       "      <td>226.410828</td>\n",
       "      <td>119.057854</td>\n",
       "      <td>83.219772</td>\n",
       "      <td>182.803040</td>\n",
       "      <td>443.945160</td>\n",
       "      <td>117.699379</td>\n",
       "      <td>82.572380</td>\n",
       "      <td>29.806664</td>\n",
       "      <td>18.069607</td>\n",
       "      <td>102.853455</td>\n",
       "      <td>38.425232</td>\n",
       "      <td>13.077275</td>\n",
       "      <td>491.017853</td>\n",
       "      <td>56.147766</td>\n",
       "      <td>100.048820</td>\n",
       "      <td>214.108871</td>\n",
       "      <td>64.034195</td>\n",
       "      <td>263.526550</td>\n",
       "    </tr>\n",
       "    <tr>\n",
       "      <th>2</th>\n",
       "      <td>220.438828</td>\n",
       "      <td>114.404213</td>\n",
       "      <td>80.720566</td>\n",
       "      <td>180.854279</td>\n",
       "      <td>435.658844</td>\n",
       "      <td>113.883087</td>\n",
       "      <td>81.345985</td>\n",
       "      <td>29.750660</td>\n",
       "      <td>17.533564</td>\n",
       "      <td>101.865280</td>\n",
       "      <td>36.760784</td>\n",
       "      <td>12.850026</td>\n",
       "      <td>486.281830</td>\n",
       "      <td>56.020088</td>\n",
       "      <td>95.917519</td>\n",
       "      <td>197.903381</td>\n",
       "      <td>63.629917</td>\n",
       "      <td>247.616150</td>\n",
       "    </tr>\n",
       "    <tr>\n",
       "      <th>3</th>\n",
       "      <td>210.780746</td>\n",
       "      <td>110.274811</td>\n",
       "      <td>80.158112</td>\n",
       "      <td>175.220718</td>\n",
       "      <td>424.478149</td>\n",
       "      <td>111.592896</td>\n",
       "      <td>80.688271</td>\n",
       "      <td>29.339743</td>\n",
       "      <td>17.392517</td>\n",
       "      <td>101.684448</td>\n",
       "      <td>36.635143</td>\n",
       "      <td>12.517962</td>\n",
       "      <td>477.736511</td>\n",
       "      <td>55.387779</td>\n",
       "      <td>95.808067</td>\n",
       "      <td>196.591003</td>\n",
       "      <td>62.178112</td>\n",
       "      <td>246.513229</td>\n",
       "    </tr>\n",
       "    <tr>\n",
       "      <th>4</th>\n",
       "      <td>210.384964</td>\n",
       "      <td>108.871925</td>\n",
       "      <td>80.058517</td>\n",
       "      <td>173.008728</td>\n",
       "      <td>419.795258</td>\n",
       "      <td>107.026756</td>\n",
       "      <td>79.966805</td>\n",
       "      <td>29.085703</td>\n",
       "      <td>17.032036</td>\n",
       "      <td>101.113411</td>\n",
       "      <td>32.103554</td>\n",
       "      <td>12.458884</td>\n",
       "      <td>470.267120</td>\n",
       "      <td>53.180630</td>\n",
       "      <td>90.905708</td>\n",
       "      <td>192.390839</td>\n",
       "      <td>61.096165</td>\n",
       "      <td>243.728058</td>\n",
       "    </tr>\n",
       "  </tbody>\n",
       "</table>\n",
       "</div>"
      ],
      "text/plain": [
       "      B cells  Branch Neurons  Dendritic  Endothelial  Epithelial        Glia  \\\n",
       "0  229.839340      119.345337  86.717667   183.869461  446.490173  128.264130   \n",
       "1  226.410828      119.057854  83.219772   182.803040  443.945160  117.699379   \n",
       "2  220.438828      114.404213  80.720566   180.854279  435.658844  113.883087   \n",
       "3  210.780746      110.274811  80.158112   175.220718  424.478149  111.592896   \n",
       "4  210.384964      108.871925  80.058517   173.008728  419.795258  107.026756   \n",
       "\n",
       "   LYVE1+ Macrophage  MMP9+ Inflammatory macrophage  MPO+ mono-neutrophil  \\\n",
       "0          83.508987                      30.559776             18.672417   \n",
       "1          82.572380                      29.806664             18.069607   \n",
       "2          81.345985                      29.750660             17.533564   \n",
       "3          80.688271                      29.339743             17.392517   \n",
       "4          79.966805                      29.085703             17.032036   \n",
       "\n",
       "   Macrophages  Mast cell  Megakaryocyte  Mesenchymal  Monocytes  Neuroblast  \\\n",
       "0   103.742905  39.729187      13.297316   512.558655  57.923923  102.069977   \n",
       "1   102.853455  38.425232      13.077275   491.017853  56.147766  100.048820   \n",
       "2   101.865280  36.760784      12.850026   486.281830  56.020088   95.917519   \n",
       "3   101.684448  36.635143      12.517962   477.736511  55.387779   95.808067   \n",
       "4   101.113411  32.103554      12.458884   470.267120  53.180630   90.905708   \n",
       "\n",
       "   Plasma cells  Red blood cells     T cells  \n",
       "0    226.343552        64.169731  266.130463  \n",
       "1    214.108871        64.034195  263.526550  \n",
       "2    197.903381        63.629917  247.616150  \n",
       "3    196.591003        62.178112  246.513229  \n",
       "4    192.390839        61.096165  243.728058  "
      ]
     },
     "execution_count": 28,
     "metadata": {},
     "output_type": "execute_result"
    }
   ],
   "source": [
    "names = pd.DataFrame(adata.uns['rank_genes_groups'][\"names\"])\n",
    "scores = pd.DataFrame(adata.uns['rank_genes_groups'][\"scores\"])\n",
    "scores.head(5)"
   ]
  },
  {
   "cell_type": "code",
   "execution_count": 29,
   "metadata": {},
   "outputs": [
    {
     "data": {
      "text/html": [
       "<div>\n",
       "<style scoped>\n",
       "    .dataframe tbody tr th:only-of-type {\n",
       "        vertical-align: middle;\n",
       "    }\n",
       "\n",
       "    .dataframe tbody tr th {\n",
       "        vertical-align: top;\n",
       "    }\n",
       "\n",
       "    .dataframe thead th {\n",
       "        text-align: right;\n",
       "    }\n",
       "</style>\n",
       "<table border=\"1\" class=\"dataframe\">\n",
       "  <thead>\n",
       "    <tr style=\"text-align: right;\">\n",
       "      <th></th>\n",
       "      <th>level_0</th>\n",
       "      <th>level_1</th>\n",
       "      <th>0</th>\n",
       "      <th>z_score</th>\n",
       "    </tr>\n",
       "  </thead>\n",
       "  <tbody>\n",
       "    <tr>\n",
       "      <th>0</th>\n",
       "      <td>0</td>\n",
       "      <td>B cells</td>\n",
       "      <td>CD74</td>\n",
       "      <td>229.839340</td>\n",
       "    </tr>\n",
       "    <tr>\n",
       "      <th>1</th>\n",
       "      <td>0</td>\n",
       "      <td>Branch Neurons</td>\n",
       "      <td>TUBB2B</td>\n",
       "      <td>119.345337</td>\n",
       "    </tr>\n",
       "    <tr>\n",
       "      <th>2</th>\n",
       "      <td>0</td>\n",
       "      <td>Dendritic</td>\n",
       "      <td>CD74</td>\n",
       "      <td>86.717667</td>\n",
       "    </tr>\n",
       "    <tr>\n",
       "      <th>3</th>\n",
       "      <td>0</td>\n",
       "      <td>Endothelial</td>\n",
       "      <td>EGFL7</td>\n",
       "      <td>183.869461</td>\n",
       "    </tr>\n",
       "    <tr>\n",
       "      <th>4</th>\n",
       "      <td>0</td>\n",
       "      <td>Epithelial</td>\n",
       "      <td>EPCAM</td>\n",
       "      <td>446.490173</td>\n",
       "    </tr>\n",
       "    <tr>\n",
       "      <th>...</th>\n",
       "      <td>...</td>\n",
       "      <td>...</td>\n",
       "      <td>...</td>\n",
       "      <td>...</td>\n",
       "    </tr>\n",
       "    <tr>\n",
       "      <th>549625</th>\n",
       "      <td>30534</td>\n",
       "      <td>Monocytes</td>\n",
       "      <td>ITM2C</td>\n",
       "      <td>-32.858570</td>\n",
       "    </tr>\n",
       "    <tr>\n",
       "      <th>549626</th>\n",
       "      <td>30534</td>\n",
       "      <td>Neuroblast</td>\n",
       "      <td>B2M</td>\n",
       "      <td>-84.810226</td>\n",
       "    </tr>\n",
       "    <tr>\n",
       "      <th>549627</th>\n",
       "      <td>30534</td>\n",
       "      <td>Plasma cells</td>\n",
       "      <td>ACTB</td>\n",
       "      <td>-173.209122</td>\n",
       "    </tr>\n",
       "    <tr>\n",
       "      <th>549628</th>\n",
       "      <td>30534</td>\n",
       "      <td>Red blood cells</td>\n",
       "      <td>TMSB4X</td>\n",
       "      <td>-48.806881</td>\n",
       "    </tr>\n",
       "    <tr>\n",
       "      <th>549629</th>\n",
       "      <td>30534</td>\n",
       "      <td>T cells</td>\n",
       "      <td>CST3</td>\n",
       "      <td>-197.657562</td>\n",
       "    </tr>\n",
       "  </tbody>\n",
       "</table>\n",
       "<p>549630 rows × 4 columns</p>\n",
       "</div>"
      ],
      "text/plain": [
       "        level_0          level_1       0     z_score\n",
       "0             0          B cells    CD74  229.839340\n",
       "1             0   Branch Neurons  TUBB2B  119.345337\n",
       "2             0        Dendritic    CD74   86.717667\n",
       "3             0      Endothelial   EGFL7  183.869461\n",
       "4             0       Epithelial   EPCAM  446.490173\n",
       "...         ...              ...     ...         ...\n",
       "549625    30534        Monocytes   ITM2C  -32.858570\n",
       "549626    30534       Neuroblast     B2M  -84.810226\n",
       "549627    30534     Plasma cells    ACTB -173.209122\n",
       "549628    30534  Red blood cells  TMSB4X  -48.806881\n",
       "549629    30534          T cells    CST3 -197.657562\n",
       "\n",
       "[549630 rows x 4 columns]"
      ]
     },
     "execution_count": 29,
     "metadata": {},
     "output_type": "execute_result"
    }
   ],
   "source": [
    "marker_genes = names.stack().reset_index()\n",
    "marker_genes[\"z_score\"] = scores.stack().reset_index()[0]\n",
    "marker_genes"
   ]
  },
  {
   "cell_type": "code",
   "execution_count": 30,
   "metadata": {},
   "outputs": [],
   "source": [
    "marker_genes.columns=['gene_rank',\"cell_type\",\"gene_name\",\"z_score\"]\n",
    "marker_genes.to_csv(\"exploded_categories.csv\")"
   ]
  },
  {
   "cell_type": "code",
   "execution_count": 31,
   "metadata": {},
   "outputs": [],
   "source": [
    "adata.write(\"exploded_categories.h5ad\")"
   ]
  },
  {
   "cell_type": "code",
   "execution_count": null,
   "metadata": {},
   "outputs": [],
   "source": []
  }
 ],
 "metadata": {
  "kernelspec": {
   "display_name": "raf_comp",
   "language": "python",
   "name": "python3"
  },
  "language_info": {
   "codemirror_mode": {
    "name": "ipython",
    "version": 3
   },
   "file_extension": ".py",
   "mimetype": "text/x-python",
   "name": "python",
   "nbconvert_exporter": "python",
   "pygments_lexer": "ipython3",
   "version": "3.10.0"
  }
 },
 "nbformat": 4,
 "nbformat_minor": 2
}
