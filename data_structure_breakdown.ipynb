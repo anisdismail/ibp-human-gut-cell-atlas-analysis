{
 "cells": [
  {
   "cell_type": "markdown",
   "metadata": {},
   "source": [
    "# Exploring the Raw Data Structure\n",
    "In this notebook, we investigate the provided row counts matrices, select the existing matrices and merge them using scanpy and anndata."
   ]
  },
  {
   "cell_type": "code",
   "execution_count": 2,
   "metadata": {},
   "outputs": [
    {
     "name": "stdout",
     "output_type": "stream",
     "text": [
      "total 96K\n",
      "drwxrwxrwx 3 cey cey 4,0K Nov  6 11:55 GC1004281_E2\n",
      "drwxrwxrwx 3 cey cey 4,0K Nov  6 11:55 GC1004282_F2\n",
      "drwxrwxrwx 3 cey cey 4,0K Nov  6 11:55 GC1004283_G2\n",
      "drwxrwxrwx 3 cey cey 4,0K Nov  6 11:56 GC1004284_F4\n",
      "drwxrwxrwx 3 cey cey 4,0K Nov  6 11:56 GC1004285_G4\n",
      "drwxrwxrwx 3 cey cey 4,0K Nov  6 11:57 GC1004286_H4\n",
      "drwxrwxrwx 3 cey cey 4,0K Nov  6 11:57 GC108651_SI-GA-C3\n",
      "drwxrwxrwx 3 cey cey 4,0K Nov  6 11:57 GC108652_SI-GA-D3\n",
      "drwxrwxrwx 3 cey cey 4,0K Nov  6 11:57 GC108653_SI-GA-E3\n",
      "drwxrwxrwx 3 cey cey 4,0K Nov  6 11:58 GC110299_SI-GA-E8\n",
      "drwxrwxrwx 3 cey cey 4,0K Nov  6 11:58 GC110300_SI-GA-F8\n",
      "drwxrwxrwx 3 cey cey 4,0K Nov  6 11:59 GC110301_SI-GA-G8\n",
      "drwxrwxrwx 3 cey cey 4,0K Nov  6 11:59 GC110994_SI-GA-B6\n",
      "drwxrwxrwx 3 cey cey 4,0K Nov  6 11:59 GC110995_SI-GA-C6\n",
      "drwxrwxrwx 3 cey cey 4,0K Nov  8 13:45 GC110996_SI-GA-D6\n",
      "drwxrwxrwx 3 cey cey 4,0K Nov  8 13:45 GC111283_SI-GA-D7\n",
      "drwxrwxrwx 3 cey cey 4,0K Nov  8 13:46 GC111284_SI-GA-E7\n",
      "drwxrwxrwx 3 cey cey 4,0K Nov  8 13:48 GC111285_SI-GA-F7\n",
      "drwxrwxrwx 3 cey cey 4,0K Nov  8 13:51 GC111488_SI-GA-B4\n",
      "drwxrwxrwx 3 cey cey 4,0K Nov  8 13:53 GC111489_SI-GA-C4\n",
      "drwxrwxrwx 3 cey cey 4,0K Nov  8 13:53 GC111490_SI-GA-D4\n",
      "drwxrwxrwx 3 cey cey 4,0K Nov  8 13:54 GC115856_SI-GA-E3\n",
      "drwxrwxrwx 3 cey cey 4,0K Nov  8 13:54 GC115857_SI-GA-F3\n",
      "drwxrwxrwx 3 cey cey 4,0K Nov  8 13:56 GC115858_SI-GA-G3\n"
     ]
    }
   ],
   "source": [
    "! ls -lh /media/gambino/students_workdir/ibp/data "
   ]
  },
  {
   "cell_type": "code",
   "execution_count": 24,
   "metadata": {},
   "outputs": [
    {
     "name": "stdout",
     "output_type": "stream",
     "text": [
      "Number of Existing Sample Folders: 24\n",
      "##################################################################################################\n",
      "GC1004281_E2       - Tissue: Muscularis     , filtered_feature_bc_matrix.h5: 1 , raw_feature_bc_matrix.h5: 1 , Folder Size: 403.31 MB\n",
      "GC1004282_F2       - Tissue: Submucosa      , filtered_feature_bc_matrix.h5: 1 , raw_feature_bc_matrix.h5: 1 , Folder Size: 437.70 MB\n",
      "GC1004283_G2       - Tissue: Lamina Propria , filtered_feature_bc_matrix.h5: 1 , raw_feature_bc_matrix.h5: 1 , Folder Size: 285.79 MB\n",
      "GC1004284_F4       - Tissue: Muscularis     , filtered_feature_bc_matrix.h5: 1 , raw_feature_bc_matrix.h5: 1 , Folder Size: 499.47 MB\n",
      "GC1004285_G4       - Tissue: Submucosa      , filtered_feature_bc_matrix.h5: 1 , raw_feature_bc_matrix.h5: 1 , Folder Size: 481.75 MB\n",
      "GC1004286_H4       - Tissue: Lamina Propria , filtered_feature_bc_matrix.h5: 1 , raw_feature_bc_matrix.h5: 1 , Folder Size: 501.58 MB\n",
      "GC108651_SI-GA-C3  - Tissue: Muscularis     , filtered_feature_bc_matrix.h5: 1 , raw_feature_bc_matrix.h5: 1 , Folder Size: 178.52 MB\n",
      "GC108652_SI-GA-D3  - Tissue: Submucosa      , filtered_feature_bc_matrix.h5: 1 , raw_feature_bc_matrix.h5: 1 , Folder Size: 298.67 MB\n",
      "GC108653_SI-GA-E3  - Tissue: Lamina Propria , filtered_feature_bc_matrix.h5: 1 , raw_feature_bc_matrix.h5: 1 , Folder Size: 310.00 MB\n",
      "GC110299_SI-GA-E8  - Tissue: Muscularis     , filtered_feature_bc_matrix.h5: 1 , raw_feature_bc_matrix.h5: 1 , Folder Size: 337.47 MB\n",
      "GC110300_SI-GA-F8  - Tissue: Submucosa      , filtered_feature_bc_matrix.h5: 1 , raw_feature_bc_matrix.h5: 0 , Folder Size: 83.29 MB\n",
      "GC110301_SI-GA-G8  - Tissue: Lamina Propria , filtered_feature_bc_matrix.h5: 0 , raw_feature_bc_matrix.h5: 0 , Folder Size: 0.01 MB\n",
      "GC110994_SI-GA-B6  - Tissue: Muscularis     , filtered_feature_bc_matrix.h5: 0 , raw_feature_bc_matrix.h5: 0 , Folder Size: 0.01 MB\n",
      "GC110995_SI-GA-C6  - Tissue: Submucosa      , filtered_feature_bc_matrix.h5: 0 , raw_feature_bc_matrix.h5: 0 , Folder Size: 0.01 MB\n",
      "GC110996_SI-GA-D6  - Tissue: Lamina Propria , filtered_feature_bc_matrix.h5: 0 , raw_feature_bc_matrix.h5: 0 , Folder Size: 0.01 MB\n",
      "GC111283_SI-GA-D7  - Tissue: Muscularis     , filtered_feature_bc_matrix.h5: 0 , raw_feature_bc_matrix.h5: 0 , Folder Size: 0.01 MB\n",
      "GC111284_SI-GA-E7  - Tissue: Submucosa      , filtered_feature_bc_matrix.h5: 0 , raw_feature_bc_matrix.h5: 0 , Folder Size: 0.01 MB\n",
      "GC111285_SI-GA-F7  - Tissue: Lamina Propria , filtered_feature_bc_matrix.h5: 0 , raw_feature_bc_matrix.h5: 0 , Folder Size: 0.01 MB\n",
      "GC111488_SI-GA-B4  - Tissue: Muscularis     , filtered_feature_bc_matrix.h5: 0 , raw_feature_bc_matrix.h5: 0 , Folder Size: 0.01 MB\n",
      "GC111489_SI-GA-C4  - Tissue: Submucosa      , filtered_feature_bc_matrix.h5: 0 , raw_feature_bc_matrix.h5: 0 , Folder Size: 0.01 MB\n",
      "GC111490_SI-GA-D4  - Tissue: Lamina Propria , filtered_feature_bc_matrix.h5: 0 , raw_feature_bc_matrix.h5: 0 , Folder Size: 0.01 MB\n",
      "GC115856_SI-GA-E3  - Tissue: Muscularis     , filtered_feature_bc_matrix.h5: 0 , raw_feature_bc_matrix.h5: 0 , Folder Size: 0.01 MB\n",
      "GC115857_SI-GA-F3  - Tissue: Submucosa      , filtered_feature_bc_matrix.h5: 0 , raw_feature_bc_matrix.h5: 0 , Folder Size: 0.01 MB\n",
      "GC115858_SI-GA-G3  - Tissue: Lamina Propria , filtered_feature_bc_matrix.h5: 0 , raw_feature_bc_matrix.h5: 0 , Folder Size: 0.01 MB\n",
      "##################################################################################################\n",
      "Missing Samples Folders: ['GC115989_SI-GA-H3', 'GC115990_SI-GA-A4', 'GC115991_SI-GA-B4']\n",
      "Existing Raw Files:['GC1004281_E2', 'GC1004282_F2', 'GC1004283_G2', 'GC1004284_F4', 'GC1004285_G4', 'GC1004286_H4', 'GC108651_SI-GA-C3', 'GC108652_SI-GA-D3', 'GC108653_SI-GA-E3', 'GC110299_SI-GA-E8']\n"
     ]
    }
   ],
   "source": [
    "import os\n",
    "import pandas as pd\n",
    "\n",
    "DATA_DIR = \"/media/gambino/students_workdir/ibp/data\"\n",
    "samples = sorted(os.listdir(DATA_DIR))\n",
    "samples_desc = pd.read_excel(\"/media/gambino/students_workdir/ibp/Colon_ERC.xlsx\")\n",
    "\n",
    "missing_samples = samples_desc.loc[~samples_desc[\"GC code\"].isin(samples), \"GC code\"]\n",
    "print(\"Number of Existing Sample Folders:\", len(samples))\n",
    "existing_raw_matrices=[]\n",
    "print(\"##################################################################################################\")\n",
    "for sample in samples:\n",
    "    sample_path = os.path.join(DATA_DIR, sample)\n",
    "    contents = os.listdir(os.path.join(sample_path, \"outs\"))\n",
    "    tissue_row = samples_desc.loc[samples_desc[\"GC code\"] == sample, \"layer\"]\n",
    "\n",
    "    if not tissue_row.empty:\n",
    "        tissue = tissue_row.iloc[0]\n",
    "    else:\n",
    "        tissue = \"N/A\"\n",
    "\n",
    "    has_filtered_matrix = \"filtered_feature_bc_matrix.h5\" in contents\n",
    "    has_raw_matrix = \"raw_feature_bc_matrix.h5\" in contents\n",
    "    if has_raw_matrix:\n",
    "        existing_raw_matrices.append(sample)\n",
    "    # Calculate folder size\n",
    "    folder_size = sum(os.path.getsize(os.path.join(sample_path, \"outs\",f)) for f in contents)\n",
    "\n",
    "    # Prettify the output\n",
    "    print(\n",
    "        f\"{sample:<18} - Tissue: {tissue:<15}, \"\n",
    "        f\"filtered_feature_bc_matrix.h5: {has_filtered_matrix:<2}, \"\n",
    "        f\"raw_feature_bc_matrix.h5: {has_raw_matrix:<2}, \"\n",
    "        f\"Folder Size: {folder_size / (1024 * 1024):.2f} MB\"\n",
    "    )\n",
    "print(\"##################################################################################################\")\n",
    "print(\"Missing Samples Folders:\", missing_samples.values.tolist())\n",
    "print(f\"Existing Raw Files:{existing_raw_matrices}\")"
   ]
  },
  {
   "cell_type": "markdown",
   "metadata": {},
   "source": [
    "Looks like there are quite some missing sample folder all together, and some folders with no raw counts matrices inside. We need to discuss these anomalies with the lab supervisor.\n",
    "Next, we merge the different files and assign each their corresponding sample ids."
   ]
  },
  {
   "cell_type": "code",
   "execution_count": 54,
   "metadata": {},
   "outputs": [
    {
     "name": "stderr",
     "output_type": "stream",
     "text": [
      "/media/gambino/students_workdir/anis/miniconda3/envs/pytorch-env/lib/python3.9/site-packages/anndata/_core/anndata.py:1830: UserWarning: Variable names are not unique. To make them unique, call `.var_names_make_unique`.\n",
      "  utils.warn_names_duplicates(\"var\")\n",
      "/media/gambino/students_workdir/anis/miniconda3/envs/pytorch-env/lib/python3.9/site-packages/anndata/_core/anndata.py:1830: UserWarning: Variable names are not unique. To make them unique, call `.var_names_make_unique`.\n",
      "  utils.warn_names_duplicates(\"var\")\n",
      "/media/gambino/students_workdir/anis/miniconda3/envs/pytorch-env/lib/python3.9/site-packages/anndata/_core/anndata.py:1830: UserWarning: Variable names are not unique. To make them unique, call `.var_names_make_unique`.\n",
      "  utils.warn_names_duplicates(\"var\")\n",
      "/media/gambino/students_workdir/anis/miniconda3/envs/pytorch-env/lib/python3.9/site-packages/anndata/_core/anndata.py:1830: UserWarning: Variable names are not unique. To make them unique, call `.var_names_make_unique`.\n",
      "  utils.warn_names_duplicates(\"var\")\n",
      "/media/gambino/students_workdir/anis/miniconda3/envs/pytorch-env/lib/python3.9/site-packages/anndata/_core/anndata.py:1830: UserWarning: Variable names are not unique. To make them unique, call `.var_names_make_unique`.\n",
      "  utils.warn_names_duplicates(\"var\")\n",
      "/media/gambino/students_workdir/anis/miniconda3/envs/pytorch-env/lib/python3.9/site-packages/anndata/_core/anndata.py:1830: UserWarning: Variable names are not unique. To make them unique, call `.var_names_make_unique`.\n",
      "  utils.warn_names_duplicates(\"var\")\n",
      "/media/gambino/students_workdir/anis/miniconda3/envs/pytorch-env/lib/python3.9/site-packages/anndata/_core/anndata.py:1830: UserWarning: Variable names are not unique. To make them unique, call `.var_names_make_unique`.\n",
      "  utils.warn_names_duplicates(\"var\")\n",
      "/media/gambino/students_workdir/anis/miniconda3/envs/pytorch-env/lib/python3.9/site-packages/anndata/_core/anndata.py:1830: UserWarning: Variable names are not unique. To make them unique, call `.var_names_make_unique`.\n",
      "  utils.warn_names_duplicates(\"var\")\n",
      "/media/gambino/students_workdir/anis/miniconda3/envs/pytorch-env/lib/python3.9/site-packages/anndata/_core/anndata.py:1830: UserWarning: Variable names are not unique. To make them unique, call `.var_names_make_unique`.\n",
      "  utils.warn_names_duplicates(\"var\")\n",
      "/media/gambino/students_workdir/anis/miniconda3/envs/pytorch-env/lib/python3.9/site-packages/anndata/_core/anndata.py:1830: UserWarning: Variable names are not unique. To make them unique, call `.var_names_make_unique`.\n",
      "  utils.warn_names_duplicates(\"var\")\n",
      "/media/gambino/students_workdir/anis/miniconda3/envs/pytorch-env/lib/python3.9/site-packages/anndata/_core/anndata.py:1785: FutureWarning: X.dtype being converted to np.float32 from float64. In the next version of anndata (0.9) conversion will not be automatic. Pass dtype explicitly to avoid this warning. Pass `AnnData(X, dtype=X.dtype, ...)` to get the future behavour.\n",
      "  [AnnData(sparse.csr_matrix(a.shape), obs=a.obs) for a in all_adatas],\n"
     ]
    }
   ],
   "source": [
    "import scanpy as sc\n",
    "\n",
    "adatas = [] \n",
    "for filename in existing_raw_matrices: \n",
    "    adata = sc.read_10x_h5(os.path.join(DATA_DIR, filename, \"outs\", \"raw_feature_bc_matrix.h5\"))\n",
    "    adata.var_names_make_unique() \n",
    "    adata.obs['batch'] = filename\n",
    "    adatas.append(adata) \n",
    "\n",
    "combined = adatas[0].concatenate(adatas[1:], batch_key='batch', batch_categories=existing_raw_matrices)\n"
   ]
  },
  {
   "cell_type": "markdown",
   "metadata": {},
   "source": [
    "Quick quality checks:"
   ]
  },
  {
   "cell_type": "code",
   "execution_count": 55,
   "metadata": {},
   "outputs": [
    {
     "name": "stdout",
     "output_type": "stream",
     "text": [
      "20266124\n",
      "20266124\n"
     ]
    }
   ],
   "source": [
    "print(sum(adata.shape[0] for adata in adatas))\n",
    "print(combined.shape[0])"
   ]
  },
  {
   "cell_type": "code",
   "execution_count": 56,
   "metadata": {},
   "outputs": [
    {
     "data": {
      "text/plain": [
       "(Index(['AAACCCAAGAAACACT-1-GC1004281_E2', 'AAACCCAAGAAACCAT-1-GC1004281_E2',\n",
       "        'AAACCCAAGAAACCCA-1-GC1004281_E2', 'AAACCCAAGAAACCCG-1-GC1004281_E2',\n",
       "        'AAACCCAAGAAACTAC-1-GC1004281_E2', 'AAACCCAAGAAACTCA-1-GC1004281_E2',\n",
       "        'AAACCCAAGAAAGTCT-1-GC1004281_E2', 'AAACCCAAGAAATCCA-1-GC1004281_E2',\n",
       "        'AAACCCAAGAAATGGG-1-GC1004281_E2', 'AAACCCAAGAAATTGC-1-GC1004281_E2',\n",
       "        ...\n",
       "        'TTTGTTGTCTTGGAAC-1-GC110299_SI-GA-E8',\n",
       "        'TTTGTTGTCTTGGCTC-1-GC110299_SI-GA-E8',\n",
       "        'TTTGTTGTCTTGTGCC-1-GC110299_SI-GA-E8',\n",
       "        'TTTGTTGTCTTGTTAC-1-GC110299_SI-GA-E8',\n",
       "        'TTTGTTGTCTTTCCAA-1-GC110299_SI-GA-E8',\n",
       "        'TTTGTTGTCTTTCTAG-1-GC110299_SI-GA-E8',\n",
       "        'TTTGTTGTCTTTGCAT-1-GC110299_SI-GA-E8',\n",
       "        'TTTGTTGTCTTTGCTA-1-GC110299_SI-GA-E8',\n",
       "        'TTTGTTGTCTTTGCTG-1-GC110299_SI-GA-E8',\n",
       "        'TTTGTTGTCTTTGGAG-1-GC110299_SI-GA-E8'],\n",
       "       dtype='object', length=20266124),\n",
       " <bound method AnnData.obs_keys of AnnData object with n_obs × n_vars = 20266124 × 36601\n",
       "     obs: 'batch'\n",
       "     var: 'gene_ids', 'feature_types', 'genome'>)"
      ]
     },
     "execution_count": 56,
     "metadata": {},
     "output_type": "execute_result"
    }
   ],
   "source": [
    "combined.obs_names,combined.obs_keys"
   ]
  },
  {
   "cell_type": "code",
   "execution_count": 67,
   "metadata": {},
   "outputs": [
    {
     "data": {
      "text/plain": [
       "GC1004286_H4         2519119\n",
       "GC1004284_F4         2437891\n",
       "GC1004281_E2         2162705\n",
       "GC1004285_G4         2150640\n",
       "GC108653_SI-GA-E3    2114310\n",
       "GC1004282_F2         1982651\n",
       "GC110299_SI-GA-E8    1945915\n",
       "GC108652_SI-GA-D3    1933702\n",
       "GC1004283_G2         1715506\n",
       "GC108651_SI-GA-C3    1303685\n",
       "Name: batch, dtype: int64"
      ]
     },
     "execution_count": 67,
     "metadata": {},
     "output_type": "execute_result"
    }
   ],
   "source": [
    "combined.obs[\"batch\"].value_counts()"
   ]
  },
  {
   "cell_type": "markdown",
   "metadata": {},
   "source": [
    "Finally, we will save the combined file in the IBP folder:"
   ]
  },
  {
   "cell_type": "code",
   "execution_count": 71,
   "metadata": {},
   "outputs": [],
   "source": [
    "combined.write(os.path.join(\"/media/gambino/students_workdir/ibp\",\"combined_raw_counts_12_11.h5\"))"
   ]
  },
  {
   "cell_type": "code",
   "execution_count": 74,
   "metadata": {},
   "outputs": [
    {
     "data": {
      "text/plain": [
       "GC1004286_H4         2519119\n",
       "GC1004284_F4         2437891\n",
       "GC1004281_E2         2162705\n",
       "GC1004285_G4         2150640\n",
       "GC108653_SI-GA-E3    2114310\n",
       "GC1004282_F2         1982651\n",
       "GC110299_SI-GA-E8    1945915\n",
       "GC108652_SI-GA-D3    1933702\n",
       "GC1004283_G2         1715506\n",
       "GC108651_SI-GA-C3    1303685\n",
       "Name: batch, dtype: int64"
      ]
     },
     "execution_count": 74,
     "metadata": {},
     "output_type": "execute_result"
    }
   ],
   "source": [
    "import anndata\n",
    "loaded_adata = anndata.read(os.path.join(\"/media/gambino/students_workdir/ibp\",\"combined_raw_counts_12_11.h5\"))\n",
    "loaded_adata.obs[\"batch\"].value_counts()"
   ]
  },
  {
   "cell_type": "code",
   "execution_count": null,
   "metadata": {},
   "outputs": [],
   "source": []
  }
 ],
 "metadata": {
  "kernelspec": {
   "display_name": "pytorch-env",
   "language": "python",
   "name": "python3"
  },
  "language_info": {
   "codemirror_mode": {
    "name": "ipython",
    "version": 3
   },
   "file_extension": ".py",
   "mimetype": "text/x-python",
   "name": "python",
   "nbconvert_exporter": "python",
   "pygments_lexer": "ipython3",
   "version": "3.9.18"
  }
 },
 "nbformat": 4,
 "nbformat_minor": 2
}
